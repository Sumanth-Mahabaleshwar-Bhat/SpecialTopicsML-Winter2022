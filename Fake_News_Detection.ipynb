{
  "cells": [
    {
      "cell_type": "markdown",
      "metadata": {
        "id": "view-in-github",
        "colab_type": "text"
      },
      "source": [
        "<a href=\"https://colab.research.google.com/github/Sumanth-Mahabaleshwar-Bhat/SpecialTopicsML-Winter2022/blob/main/Fake_News_Detection.ipynb\" target=\"_parent\"><img src=\"https://colab.research.google.com/assets/colab-badge.svg\" alt=\"Open In Colab\"/></a>"
      ]
    },
    {
      "cell_type": "code",
      "execution_count": null,
      "id": "6c697d53-0a09-43ae-a581-befcb319348e",
      "metadata": {
        "id": "6c697d53-0a09-43ae-a581-befcb319348e"
      },
      "outputs": [],
      "source": [
        "import pandas as pd\n",
        "import numpy as np\n",
        "import matplotlib.pyplot as plt\n",
        "import seaborn as sns\n",
        "from sklearn.feature_extraction.text import CountVectorizer\n",
        "from sklearn.feature_extraction.text import TfidfTransformer\n",
        "from sklearn import feature_extraction, linear_model, model_selection, preprocessing\n",
        "from sklearn.metrics import accuracy_score\n",
        "from sklearn.model_selection import train_test_split\n",
        "from sklearn.pipeline import Pipeline\n",
        "from sklearn.metrics import precision_score, recall_score, f1_score, accuracy_score, classification_report"
      ]
    },
    {
      "cell_type": "code",
      "execution_count": null,
      "id": "254018f3-2258-4361-a232-2095ebee8863",
      "metadata": {
        "id": "254018f3-2258-4361-a232-2095ebee8863"
      },
      "outputs": [],
      "source": [
        "# Importing Fake and True News dataset\n",
        "fake = pd.read_csv(\"Documents/Fake.csv\")\n",
        "true = pd.read_csv(\"Documents/True.csv\")"
      ]
    },
    {
      "cell_type": "code",
      "execution_count": null,
      "id": "09509d0e-9e26-485a-98d0-2bfaffef38c2",
      "metadata": {
        "id": "09509d0e-9e26-485a-98d0-2bfaffef38c2"
      },
      "outputs": [],
      "source": [
        "# Adding flag to track fake and real\n",
        "fake['target'] = 'fake'\n",
        "true['target'] = 'true'"
      ]
    },
    {
      "cell_type": "code",
      "execution_count": null,
      "id": "ffa93ef2-4b0e-45b8-b01c-a7b1c909ada8",
      "metadata": {
        "id": "ffa93ef2-4b0e-45b8-b01c-a7b1c909ada8"
      },
      "outputs": [],
      "source": [
        "# Concatenating dataframes\n",
        "data = pd.concat([fake, true]).reset_index(drop = True)"
      ]
    },
    {
      "cell_type": "code",
      "execution_count": null,
      "id": "da913615-06b2-4f1f-b8f3-839a8979f2d4",
      "metadata": {
        "id": "da913615-06b2-4f1f-b8f3-839a8979f2d4"
      },
      "outputs": [],
      "source": [
        "# Shuffling the data\n",
        "from sklearn.utils import shuffle\n",
        "data = shuffle(data)\n",
        "data = data.reset_index(drop=True)"
      ]
    },
    {
      "cell_type": "code",
      "execution_count": null,
      "id": "69bae8fc-b814-4c16-b010-0121f99933eb",
      "metadata": {
        "id": "69bae8fc-b814-4c16-b010-0121f99933eb",
        "outputId": "7d712a56-b4ef-4df6-903a-ff6883905799"
      },
      "outputs": [
        {
          "data": {
            "text/html": [
              "<div>\n",
              "<style scoped>\n",
              "    .dataframe tbody tr th:only-of-type {\n",
              "        vertical-align: middle;\n",
              "    }\n",
              "\n",
              "    .dataframe tbody tr th {\n",
              "        vertical-align: top;\n",
              "    }\n",
              "\n",
              "    .dataframe thead th {\n",
              "        text-align: right;\n",
              "    }\n",
              "</style>\n",
              "<table border=\"1\" class=\"dataframe\">\n",
              "  <thead>\n",
              "    <tr style=\"text-align: right;\">\n",
              "      <th></th>\n",
              "      <th>title</th>\n",
              "      <th>text</th>\n",
              "      <th>subject</th>\n",
              "      <th>date</th>\n",
              "      <th>target</th>\n",
              "    </tr>\n",
              "  </thead>\n",
              "  <tbody>\n",
              "    <tr>\n",
              "      <th>0</th>\n",
              "      <td>Trump’s Attorney General Pick Thinks Kids Wit...</td>\n",
              "      <td>Yes, you read the title correctly. Trump s pic...</td>\n",
              "      <td>News</td>\n",
              "      <td>November 29, 2016</td>\n",
              "      <td>fake</td>\n",
              "    </tr>\n",
              "    <tr>\n",
              "      <th>1</th>\n",
              "      <td>Poland to allocate additional $55 bllion on de...</td>\n",
              "      <td>WARSAW (Reuters) - Poland will allocate an add...</td>\n",
              "      <td>worldnews</td>\n",
              "      <td>August 23, 2017</td>\n",
              "      <td>true</td>\n",
              "    </tr>\n",
              "    <tr>\n",
              "      <th>2</th>\n",
              "      <td>U.S. judge aims to quickly decide lawsuits ove...</td>\n",
              "      <td>SAN FRANCISCO (Reuters) - A U.S. judge on Thur...</td>\n",
              "      <td>politicsNews</td>\n",
              "      <td>September 21, 2017</td>\n",
              "      <td>true</td>\n",
              "    </tr>\n",
              "    <tr>\n",
              "      <th>3</th>\n",
              "      <td>OUTRAGEOUS! CNN Uses Unauthorized Video Taken ...</td>\n",
              "      <td>This video from CNN has been blasted to Daily ...</td>\n",
              "      <td>politics</td>\n",
              "      <td>Mar 5, 2017</td>\n",
              "      <td>fake</td>\n",
              "    </tr>\n",
              "    <tr>\n",
              "      <th>4</th>\n",
              "      <td>SICK OF HOLLYWOOD LIBERALS and PERVERTS? Here’...</td>\n",
              "      <td>Actor Kevin Sorbo and his wife, actress Sam So...</td>\n",
              "      <td>left-news</td>\n",
              "      <td>Oct 26, 2017</td>\n",
              "      <td>fake</td>\n",
              "    </tr>\n",
              "  </tbody>\n",
              "</table>\n",
              "</div>"
            ],
            "text/plain": [
              "                                               title  \\\n",
              "0   Trump’s Attorney General Pick Thinks Kids Wit...   \n",
              "1  Poland to allocate additional $55 bllion on de...   \n",
              "2  U.S. judge aims to quickly decide lawsuits ove...   \n",
              "3  OUTRAGEOUS! CNN Uses Unauthorized Video Taken ...   \n",
              "4  SICK OF HOLLYWOOD LIBERALS and PERVERTS? Here’...   \n",
              "\n",
              "                                                text       subject  \\\n",
              "0  Yes, you read the title correctly. Trump s pic...          News   \n",
              "1  WARSAW (Reuters) - Poland will allocate an add...     worldnews   \n",
              "2  SAN FRANCISCO (Reuters) - A U.S. judge on Thur...  politicsNews   \n",
              "3  This video from CNN has been blasted to Daily ...      politics   \n",
              "4  Actor Kevin Sorbo and his wife, actress Sam So...     left-news   \n",
              "\n",
              "                  date target  \n",
              "0    November 29, 2016   fake  \n",
              "1     August 23, 2017    true  \n",
              "2  September 21, 2017    true  \n",
              "3          Mar 5, 2017   fake  \n",
              "4         Oct 26, 2017   fake  "
            ]
          },
          "execution_count": 303,
          "metadata": {},
          "output_type": "execute_result"
        }
      ],
      "source": [
        "# Check the data\n",
        "data.head()"
      ]
    },
    {
      "cell_type": "code",
      "execution_count": null,
      "id": "fbcb9cac-e7ec-4bd7-9df5-bc366c0e1131",
      "metadata": {
        "id": "fbcb9cac-e7ec-4bd7-9df5-bc366c0e1131",
        "outputId": "f2224f04-4086-48b5-f5fd-ae1cd7ca89c0"
      },
      "outputs": [
        {
          "data": {
            "text/html": [
              "<div>\n",
              "<style scoped>\n",
              "    .dataframe tbody tr th:only-of-type {\n",
              "        vertical-align: middle;\n",
              "    }\n",
              "\n",
              "    .dataframe tbody tr th {\n",
              "        vertical-align: top;\n",
              "    }\n",
              "\n",
              "    .dataframe thead th {\n",
              "        text-align: right;\n",
              "    }\n",
              "</style>\n",
              "<table border=\"1\" class=\"dataframe\">\n",
              "  <thead>\n",
              "    <tr style=\"text-align: right;\">\n",
              "      <th></th>\n",
              "      <th>text</th>\n",
              "      <th>subject</th>\n",
              "      <th>date</th>\n",
              "      <th>target</th>\n",
              "    </tr>\n",
              "  </thead>\n",
              "  <tbody>\n",
              "    <tr>\n",
              "      <th>0</th>\n",
              "      <td>Yes, you read the title correctly. Trump s pic...</td>\n",
              "      <td>News</td>\n",
              "      <td>November 29, 2016</td>\n",
              "      <td>fake</td>\n",
              "    </tr>\n",
              "    <tr>\n",
              "      <th>1</th>\n",
              "      <td>WARSAW (Reuters) - Poland will allocate an add...</td>\n",
              "      <td>worldnews</td>\n",
              "      <td>August 23, 2017</td>\n",
              "      <td>true</td>\n",
              "    </tr>\n",
              "    <tr>\n",
              "      <th>2</th>\n",
              "      <td>SAN FRANCISCO (Reuters) - A U.S. judge on Thur...</td>\n",
              "      <td>politicsNews</td>\n",
              "      <td>September 21, 2017</td>\n",
              "      <td>true</td>\n",
              "    </tr>\n",
              "    <tr>\n",
              "      <th>3</th>\n",
              "      <td>This video from CNN has been blasted to Daily ...</td>\n",
              "      <td>politics</td>\n",
              "      <td>Mar 5, 2017</td>\n",
              "      <td>fake</td>\n",
              "    </tr>\n",
              "    <tr>\n",
              "      <th>4</th>\n",
              "      <td>Actor Kevin Sorbo and his wife, actress Sam So...</td>\n",
              "      <td>left-news</td>\n",
              "      <td>Oct 26, 2017</td>\n",
              "      <td>fake</td>\n",
              "    </tr>\n",
              "  </tbody>\n",
              "</table>\n",
              "</div>"
            ],
            "text/plain": [
              "                                                text       subject  \\\n",
              "0  Yes, you read the title correctly. Trump s pic...          News   \n",
              "1  WARSAW (Reuters) - Poland will allocate an add...     worldnews   \n",
              "2  SAN FRANCISCO (Reuters) - A U.S. judge on Thur...  politicsNews   \n",
              "3  This video from CNN has been blasted to Daily ...      politics   \n",
              "4  Actor Kevin Sorbo and his wife, actress Sam So...     left-news   \n",
              "\n",
              "                  date target  \n",
              "0    November 29, 2016   fake  \n",
              "1     August 23, 2017    true  \n",
              "2  September 21, 2017    true  \n",
              "3          Mar 5, 2017   fake  \n",
              "4         Oct 26, 2017   fake  "
            ]
          },
          "execution_count": 304,
          "metadata": {},
          "output_type": "execute_result"
        }
      ],
      "source": [
        "# Removing the title (we will only use the text)\n",
        "data.drop([\"title\"],axis=1,inplace=True)\n",
        "data.head()"
      ]
    },
    {
      "cell_type": "code",
      "execution_count": null,
      "id": "f996822f-4de0-426c-b56a-e31000488ff2",
      "metadata": {
        "id": "f996822f-4de0-426c-b56a-e31000488ff2",
        "outputId": "5b53301a-daeb-4766-ec41-cb773938803e"
      },
      "outputs": [
        {
          "data": {
            "text/html": [
              "<div>\n",
              "<style scoped>\n",
              "    .dataframe tbody tr th:only-of-type {\n",
              "        vertical-align: middle;\n",
              "    }\n",
              "\n",
              "    .dataframe tbody tr th {\n",
              "        vertical-align: top;\n",
              "    }\n",
              "\n",
              "    .dataframe thead th {\n",
              "        text-align: right;\n",
              "    }\n",
              "</style>\n",
              "<table border=\"1\" class=\"dataframe\">\n",
              "  <thead>\n",
              "    <tr style=\"text-align: right;\">\n",
              "      <th></th>\n",
              "      <th>text</th>\n",
              "      <th>subject</th>\n",
              "      <th>date</th>\n",
              "      <th>target</th>\n",
              "    </tr>\n",
              "  </thead>\n",
              "  <tbody>\n",
              "    <tr>\n",
              "      <th>0</th>\n",
              "      <td>yes, you read the title correctly. trump s pic...</td>\n",
              "      <td>News</td>\n",
              "      <td>November 29, 2016</td>\n",
              "      <td>fake</td>\n",
              "    </tr>\n",
              "    <tr>\n",
              "      <th>1</th>\n",
              "      <td>warsaw (reuters) - poland will allocate an add...</td>\n",
              "      <td>worldnews</td>\n",
              "      <td>August 23, 2017</td>\n",
              "      <td>true</td>\n",
              "    </tr>\n",
              "    <tr>\n",
              "      <th>2</th>\n",
              "      <td>san francisco (reuters) - a u.s. judge on thur...</td>\n",
              "      <td>politicsNews</td>\n",
              "      <td>September 21, 2017</td>\n",
              "      <td>true</td>\n",
              "    </tr>\n",
              "    <tr>\n",
              "      <th>3</th>\n",
              "      <td>this video from cnn has been blasted to daily ...</td>\n",
              "      <td>politics</td>\n",
              "      <td>Mar 5, 2017</td>\n",
              "      <td>fake</td>\n",
              "    </tr>\n",
              "    <tr>\n",
              "      <th>4</th>\n",
              "      <td>actor kevin sorbo and his wife, actress sam so...</td>\n",
              "      <td>left-news</td>\n",
              "      <td>Oct 26, 2017</td>\n",
              "      <td>fake</td>\n",
              "    </tr>\n",
              "  </tbody>\n",
              "</table>\n",
              "</div>"
            ],
            "text/plain": [
              "                                                text       subject  \\\n",
              "0  yes, you read the title correctly. trump s pic...          News   \n",
              "1  warsaw (reuters) - poland will allocate an add...     worldnews   \n",
              "2  san francisco (reuters) - a u.s. judge on thur...  politicsNews   \n",
              "3  this video from cnn has been blasted to daily ...      politics   \n",
              "4  actor kevin sorbo and his wife, actress sam so...     left-news   \n",
              "\n",
              "                  date target  \n",
              "0    November 29, 2016   fake  \n",
              "1     August 23, 2017    true  \n",
              "2  September 21, 2017    true  \n",
              "3          Mar 5, 2017   fake  \n",
              "4         Oct 26, 2017   fake  "
            ]
          },
          "execution_count": 305,
          "metadata": {},
          "output_type": "execute_result"
        }
      ],
      "source": [
        "# Converting to lowercase\n",
        "data['text'] = data['text'].apply(lambda x: x.lower())\n",
        "data.head()"
      ]
    },
    {
      "cell_type": "code",
      "execution_count": null,
      "id": "6cee1ddf-2e97-4f51-bcba-249c9609ad54",
      "metadata": {
        "id": "6cee1ddf-2e97-4f51-bcba-249c9609ad54"
      },
      "outputs": [],
      "source": [
        "# Removing punctuation\n",
        "import string\n",
        "def punctuation_removal(text):\n",
        "    all_list = [char for char in text if char not in string.punctuation]\n",
        "    clean_str = ''.join(all_list)\n",
        "    return clean_str\n",
        "data['text'] = data['text'].apply(punctuation_removal)"
      ]
    },
    {
      "cell_type": "code",
      "execution_count": null,
      "id": "73a41247-8b65-4384-b241-9bbb75ab5732",
      "metadata": {
        "id": "73a41247-8b65-4384-b241-9bbb75ab5732",
        "outputId": "8f802eb5-3835-46f9-e2c4-cbf0c74a4c14"
      },
      "outputs": [
        {
          "data": {
            "text/html": [
              "<div>\n",
              "<style scoped>\n",
              "    .dataframe tbody tr th:only-of-type {\n",
              "        vertical-align: middle;\n",
              "    }\n",
              "\n",
              "    .dataframe tbody tr th {\n",
              "        vertical-align: top;\n",
              "    }\n",
              "\n",
              "    .dataframe thead th {\n",
              "        text-align: right;\n",
              "    }\n",
              "</style>\n",
              "<table border=\"1\" class=\"dataframe\">\n",
              "  <thead>\n",
              "    <tr style=\"text-align: right;\">\n",
              "      <th></th>\n",
              "      <th>text</th>\n",
              "      <th>subject</th>\n",
              "      <th>date</th>\n",
              "      <th>target</th>\n",
              "    </tr>\n",
              "  </thead>\n",
              "  <tbody>\n",
              "    <tr>\n",
              "      <th>0</th>\n",
              "      <td>yes you read the title correctly trump s pick ...</td>\n",
              "      <td>News</td>\n",
              "      <td>November 29, 2016</td>\n",
              "      <td>fake</td>\n",
              "    </tr>\n",
              "    <tr>\n",
              "      <th>1</th>\n",
              "      <td>warsaw reuters  poland will allocate an additi...</td>\n",
              "      <td>worldnews</td>\n",
              "      <td>August 23, 2017</td>\n",
              "      <td>true</td>\n",
              "    </tr>\n",
              "    <tr>\n",
              "      <th>2</th>\n",
              "      <td>san francisco reuters  a us judge on thursday ...</td>\n",
              "      <td>politicsNews</td>\n",
              "      <td>September 21, 2017</td>\n",
              "      <td>true</td>\n",
              "    </tr>\n",
              "    <tr>\n",
              "      <th>3</th>\n",
              "      <td>this video from cnn has been blasted to daily ...</td>\n",
              "      <td>politics</td>\n",
              "      <td>Mar 5, 2017</td>\n",
              "      <td>fake</td>\n",
              "    </tr>\n",
              "    <tr>\n",
              "      <th>4</th>\n",
              "      <td>actor kevin sorbo and his wife actress sam sor...</td>\n",
              "      <td>left-news</td>\n",
              "      <td>Oct 26, 2017</td>\n",
              "      <td>fake</td>\n",
              "    </tr>\n",
              "  </tbody>\n",
              "</table>\n",
              "</div>"
            ],
            "text/plain": [
              "                                                text       subject  \\\n",
              "0  yes you read the title correctly trump s pick ...          News   \n",
              "1  warsaw reuters  poland will allocate an additi...     worldnews   \n",
              "2  san francisco reuters  a us judge on thursday ...  politicsNews   \n",
              "3  this video from cnn has been blasted to daily ...      politics   \n",
              "4  actor kevin sorbo and his wife actress sam sor...     left-news   \n",
              "\n",
              "                  date target  \n",
              "0    November 29, 2016   fake  \n",
              "1     August 23, 2017    true  \n",
              "2  September 21, 2017    true  \n",
              "3          Mar 5, 2017   fake  \n",
              "4         Oct 26, 2017   fake  "
            ]
          },
          "execution_count": 307,
          "metadata": {},
          "output_type": "execute_result"
        }
      ],
      "source": [
        "# Checking the data after removing punctuation\n",
        "data.head()"
      ]
    },
    {
      "cell_type": "code",
      "execution_count": null,
      "id": "d76e3f71-a29f-43b8-8909-8e2a1a6e5de6",
      "metadata": {
        "id": "d76e3f71-a29f-43b8-8909-8e2a1a6e5de6",
        "outputId": "54149024-1d9a-4cdb-8bbd-bd023da819c4"
      },
      "outputs": [
        {
          "name": "stderr",
          "output_type": "stream",
          "text": [
            "[nltk_data] Downloading package stopwords to C:\\Users\\MY\n",
            "[nltk_data]     PC\\AppData\\Roaming\\nltk_data...\n",
            "[nltk_data]   Package stopwords is already up-to-date!\n"
          ]
        }
      ],
      "source": [
        "# Removing stopwords\n",
        "import nltk\n",
        "nltk.download('stopwords')\n",
        "from nltk.corpus import stopwords\n",
        "stop = stopwords.words('english')\n",
        "data['text'] = data['text'].apply(lambda x: ' '.join([word for word in x.split() if word not in (stop)]))"
      ]
    },
    {
      "cell_type": "code",
      "execution_count": null,
      "id": "6ab17253-f790-4584-828e-fa41ebd02aa4",
      "metadata": {
        "id": "6ab17253-f790-4584-828e-fa41ebd02aa4",
        "outputId": "369ff5a3-25e8-4a66-a1a4-2f063af715e8"
      },
      "outputs": [
        {
          "name": "stdout",
          "output_type": "stream",
          "text": [
            "subject\n",
            "Government News     1570\n",
            "Middle-east          778\n",
            "News                9050\n",
            "US_News              783\n",
            "left-news           4459\n",
            "politics            6841\n",
            "politicsNews       11272\n",
            "worldnews          10145\n",
            "Name: text, dtype: int64\n"
          ]
        },
        {
          "data": {
            "image/png": "[encoded data removed]",
            "text/plain": [
              "<Figure size 432x288 with 1 Axes>"
            ]
          },
          "metadata": {
            "needs_background": "light"
          },
          "output_type": "display_data"
        }
      ],
      "source": [
        "# Listing number of articles per subject\n",
        "print(data.groupby(['subject'])['text'].count())\n",
        "data.groupby(['subject'])['text'].count().plot(kind=\"bar\")\n",
        "plt.show()"
      ]
    },
    {
      "cell_type": "code",
      "execution_count": null,
      "id": "7f91f9b5-4ed1-4f6b-9e1e-f54272a0148b",
      "metadata": {
        "id": "7f91f9b5-4ed1-4f6b-9e1e-f54272a0148b"
      },
      "outputs": [],
      "source": [
        "# Most frequent words counter (Code adapted from https://www.kaggle.com/rodolfoluna/fake-news-detector)\n",
        "from nltk import tokenize\n",
        "token_space = tokenize.WhitespaceTokenizer()\n",
        "\n",
        "def counter(text, column_text, quantity):\n",
        "    all_words = ' '.join([text for text in text[column_text]])\n",
        "    token_phrase = token_space.tokenize(all_words)\n",
        "    frequency = nltk.FreqDist(token_phrase)\n",
        "    df_frequency = pd.DataFrame({\"Word\": list(frequency.keys()),\n",
        "                                   \"Frequency\": list(frequency.values())})\n",
        "    df_frequency = df_frequency.nlargest(columns = \"Frequency\", n = quantity)\n",
        "    plt.figure(figsize=(12,8))\n",
        "    ax = sns.barplot(data = df_frequency, x = \"Word\", y = \"Frequency\", color = 'blue')\n",
        "    ax.set(ylabel = \"Count\")\n",
        "    plt.xticks(rotation='vertical')\n",
        "    plt.show()"
      ]
    },
    {
      "cell_type": "code",
      "execution_count": null,
      "id": "bfa2cdbe-9643-48f5-b44f-c7bbfa97ee57",
      "metadata": {
        "id": "bfa2cdbe-9643-48f5-b44f-c7bbfa97ee57",
        "outputId": "7f9ee0f8-39ee-45c3-e3ce-a16ffca8e31c"
      },
      "outputs": [
        {
          "data": {
            "image/png": "[encoded data removed]",
            "text/plain": [
              "<Figure size 864x576 with 1 Axes>"
            ]
          },
          "metadata": {
            "needs_background": "light"
          },
          "output_type": "display_data"
        }
      ],
      "source": [
        "# Most frequent words in fake news\n",
        "counter(data[data[\"target\"] == \"fake\"], \"text\", 20)"
      ]
    },
    {
      "cell_type": "code",
      "execution_count": null,
      "id": "5dd10fd7-8a0f-4548-b8c4-370373196cbd",
      "metadata": {
        "id": "5dd10fd7-8a0f-4548-b8c4-370373196cbd",
        "outputId": "a1340811-4642-4ff0-89fc-50fe3bc0ec88"
      },
      "outputs": [
        {
          "data": {
            "image/png": "[encoded data removed]",
            "text/plain": [
              "<Figure size 864x576 with 1 Axes>"
            ]
          },
          "metadata": {
            "needs_background": "light"
          },
          "output_type": "display_data"
        }
      ],
      "source": [
        "# Most frequent words in real news\n",
        "counter(data[data[\"target\"] == \"true\"], \"text\", 20)"
      ]
    },
    {
      "cell_type": "code",
      "execution_count": null,
      "id": "81623c74-f198-485b-8d48-af9fe133d036",
      "metadata": {
        "id": "81623c74-f198-485b-8d48-af9fe133d036"
      },
      "outputs": [],
      "source": [
        "# Function to plot the confusion matrix\n",
        "from sklearn import metrics\n",
        "import itertools\n",
        "\n",
        "def plot_confusion_matrix(cm, classes,\n",
        "                          normalize=False,\n",
        "                          title='Confusion matrix',\n",
        "                          cmap=plt.cm.Blues):\n",
        "\n",
        "    plt.imshow(cm, interpolation='nearest', cmap=cmap)\n",
        "    plt.title(title)\n",
        "    plt.colorbar()\n",
        "    tick_marks = np.arange(len(classes))\n",
        "    plt.xticks(tick_marks, classes, rotation=45)\n",
        "    plt.yticks(tick_marks, classes)\n",
        "\n",
        "    if normalize:\n",
        "        cm = cm.astype('float') / cm.sum(axis=1)[:, np.newaxis]\n",
        "        print(\"Normalized confusion matrix\")\n",
        "    else:\n",
        "        print('Confusion matrix, without normalization')\n",
        "\n",
        "    thresh = cm.max() / 2.\n",
        "    for i, j in itertools.product(range(cm.shape[0]), range(cm.shape[1])):\n",
        "        plt.text(j, i, cm[i, j],\n",
        "                 horizontalalignment=\"center\",\n",
        "                 color=\"white\" if cm[i, j] > thresh else \"black\")\n",
        "\n",
        "    plt.tight_layout()\n",
        "    plt.ylabel('True label')\n",
        "    plt.xlabel('Predicted label')"
      ]
    },
    {
      "cell_type": "code",
      "execution_count": null,
      "id": "23ed0482-2d6b-4303-a9c5-a6731ff65b70",
      "metadata": {
        "id": "23ed0482-2d6b-4303-a9c5-a6731ff65b70"
      },
      "outputs": [],
      "source": [
        "# Split the data\n",
        "X_train,X_test,y_train,y_test = train_test_split(data['text'], data.target, test_size=0.2, random_state=1124)"
      ]
    },
    {
      "cell_type": "code",
      "execution_count": null,
      "id": "2f085f63-6288-4c4b-a980-15c642e91a86",
      "metadata": {
        "id": "2f085f63-6288-4c4b-a980-15c642e91a86"
      },
      "outputs": [],
      "source": [
        "# plotting Confusion matrix function\n",
        "def confusion_matrix(y_test, prediction):\n",
        "    cm = metrics.confusion_matrix(y_test, prediction)\n",
        "    plot_confusion_matrix(cm, classes=['Fake', 'Real'])"
      ]
    },
    {
      "cell_type": "code",
      "execution_count": null,
      "id": "bd44046d-f148-4e60-87ae-7e777a2369bc",
      "metadata": {
        "id": "bd44046d-f148-4e60-87ae-7e777a2369bc"
      },
      "outputs": [],
      "source": [
        "def evaluation_metrics(y_test, prediction, classification_type):\n",
        "    accuracy = round(accuracy_score(y_test, prediction)*100,2)\n",
        "    precision = round(precision_score(y_test, prediction, pos_label='true')*100,2)\n",
        "    recall = round(recall_score(y_test, prediction, pos_label='true')*100,2)\n",
        "    f1 = round(f1_score(y_test, prediction, pos_label='true')*100,2)\n",
        "    print(\"Accuracy of \" + classification_type + \" is : {}%\".format(accuracy))\n",
        "    print(\"Precision of \" + classification_type + \" is : {}%\".format(precision))\n",
        "    print(\"Recall of \" + classification_type + \" is : {}%\".format(recall))\n",
        "    print(\"F1 Score of \" + classification_type + \" is : {}%\".format(f1))"
      ]
    },
    {
      "cell_type": "code",
      "execution_count": null,
      "id": "f15f9e20-86d9-4f8a-9c0b-64a07dc94a42",
      "metadata": {
        "id": "f15f9e20-86d9-4f8a-9c0b-64a07dc94a42"
      },
      "outputs": [],
      "source": [
        "# Logistic Regression\n",
        "# Vectorizing and applying TF-IDF\n",
        "from sklearn.linear_model import LogisticRegression\n",
        "def logistic_regression():\n",
        "    pipe = Pipeline([('vect', CountVectorizer()),\n",
        "                 ('tfidf', TfidfTransformer()),\n",
        "                 ('model', LogisticRegression())])\n",
        "    # Fitting the model\n",
        "    model = pipe.fit(X_train, y_train)\n",
        "    # Accuracy\n",
        "    prediction = model.predict(X_test)\n",
        "    evaluation_metrics(y_test, prediction, \"Logistic Regression\")\n",
        "    confusion_matrix(y_test, prediction)"
      ]
    },
    {
      "cell_type": "code",
      "execution_count": null,
      "id": "2f7cda14-5bab-4593-8d33-5c9ff098b0c2",
      "metadata": {
        "id": "2f7cda14-5bab-4593-8d33-5c9ff098b0c2"
      },
      "outputs": [],
      "source": [
        "# Decision Tree Classifier\n",
        "from sklearn.tree import DecisionTreeClassifier\n",
        "def decision_tree_classifier():\n",
        "    # Vectorizing and applying TF-IDF\n",
        "    pipe = Pipeline([('vect', CountVectorizer()),\n",
        "                 ('tfidf', TfidfTransformer()),\n",
        "                 ('model', DecisionTreeClassifier(criterion= 'entropy',\n",
        "                                           max_depth = 20,\n",
        "                                           splitter='best',\n",
        "                                           random_state=42))])\n",
        "    # Fitting the model\n",
        "    model = pipe.fit(X_train, y_train)\n",
        "    # Accuracy\n",
        "    prediction = model.predict(X_test)\n",
        "    evaluation_metrics(y_test, prediction, \"Decision Tree Classifier\")\n",
        "    confusion_matrix(y_test, prediction)"
      ]
    },
    {
      "cell_type": "code",
      "execution_count": null,
      "id": "70485c7a-683b-4ff7-8a56-bfffb7f70c18",
      "metadata": {
        "id": "70485c7a-683b-4ff7-8a56-bfffb7f70c18"
      },
      "outputs": [],
      "source": [
        "from sklearn.ensemble import RandomForestClassifier\n",
        "# Random forest classifier\n",
        "def random_forest_classifier():\n",
        "    pipe = Pipeline([('vect', CountVectorizer()),\n",
        "                 ('tfidf', TfidfTransformer()),\n",
        "                 ('model', RandomForestClassifier(n_estimators=50, criterion=\"entropy\"))])\n",
        "    model = pipe.fit(X_train, y_train)\n",
        "    prediction = model.predict(X_test)\n",
        "    evaluation_metrics(y_test, prediction, \"Random Forest Classifier\")\n",
        "    confusion_matrix(y_test, prediction)"
      ]
    },
    {
      "cell_type": "code",
      "execution_count": null,
      "id": "33b5b55c-1df6-4a26-ac8a-4111d1b4bb03",
      "metadata": {
        "id": "33b5b55c-1df6-4a26-ac8a-4111d1b4bb03"
      },
      "outputs": [],
      "source": [
        "from sklearn.naive_bayes import MultinomialNB\n",
        "#Naive Bayes Classifier\n",
        "def naive_bayes_classifier():\n",
        "    pipe = Pipeline([\n",
        "    ('bow', CountVectorizer()),\n",
        "    ('tfidf', TfidfTransformer()),\n",
        "    ('classifier', MultinomialNB()),\n",
        "    ])\n",
        "    model = pipe.fit(X_train, y_train)\n",
        "    prediction = model.predict(X_test)\n",
        "    evaluation_metrics(y_test, prediction, \"Naive Bayes Classifier\")\n",
        "    confusion_matrix(y_test, prediction)"
      ]
    },
    {
      "cell_type": "code",
      "execution_count": null,
      "id": "f54a875c-62f4-4490-b264-457d94dff482",
      "metadata": {
        "id": "f54a875c-62f4-4490-b264-457d94dff482"
      },
      "outputs": [],
      "source": [
        "from sklearn.svm import LinearSVC\n",
        "# SVM Classifier\n",
        "def svm_classifier():\n",
        "    pipe = Pipeline([('vect', CountVectorizer()),\n",
        "                 ('tfidf', TfidfTransformer()),\n",
        "                 ('model', LinearSVC())])\n",
        "    model_SVC = pipe.fit(X_train, y_train)\n",
        "    prediction = model_SVC.predict(X_test)\n",
        "    evaluation_metrics(y_test, prediction, \"SVM Classifier\")\n",
        "    confusion_matrix(y_test, prediction)"
      ]
    },
    {
      "cell_type": "code",
      "execution_count": null,
      "id": "16cc5b5e-318d-40c1-9cf5-ffa700804bc2",
      "metadata": {
        "id": "16cc5b5e-318d-40c1-9cf5-ffa700804bc2"
      },
      "outputs": [],
      "source": [
        "from sklearn.neighbors import KNeighborsClassifier\n",
        "# KNN Classifier\n",
        "def knn_classifier():\n",
        "    pipe = Pipeline([('vect', CountVectorizer()),\n",
        "                 ('tfidf', TfidfTransformer()),\n",
        "                 ('model', KNeighborsClassifier(n_neighbors = 10,weights = 'distance',algorithm = 'brute'))])\n",
        "    model_KNN = pipe.fit(X_train, y_train)\n",
        "    prediction = model_KNN.predict(X_test)\n",
        "    evaluation_metrics(y_test, prediction, \"KNN Classifier\")\n",
        "    confusion_matrix(y_test, prediction)"
      ]
    },
    {
      "cell_type": "code",
      "execution_count": null,
      "id": "1059bc4f-593a-4b6b-8017-032f1f480d00",
      "metadata": {
        "id": "1059bc4f-593a-4b6b-8017-032f1f480d00"
      },
      "outputs": [],
      "source": [
        "from sklearn.ensemble import AdaBoostClassifier\n",
        "# AdaBoost Classifier\n",
        "def ada_boost_classifier():\n",
        "    pipe = Pipeline([('vect', CountVectorizer()),\n",
        "                 ('tfidf', TfidfTransformer()),\n",
        "                 ('model', AdaBoostClassifier(learning_rate = 0.01,n_estimators = 10,))])\n",
        "    model_AB = pipe.fit(X_train, y_train)\n",
        "    prediction = model_AB.predict(X_test)\n",
        "    evaluation_metrics(y_test, prediction, \"AdaBoost Classifier\")\n",
        "    confusion_matrix(y_test, prediction)"
      ]
    },
    {
      "cell_type": "code",
      "execution_count": null,
      "id": "0300faed-325b-47da-b0ae-550d15620e2e",
      "metadata": {
        "id": "0300faed-325b-47da-b0ae-550d15620e2e",
        "outputId": "6fa7b533-ebd8-401e-a216-3a972ca21b60"
      },
      "outputs": [
        {
          "name": "stdout",
          "output_type": "stream",
          "text": [
            "Accuracy of Logistic Regression is : 99.03%\n",
            "Precision of Logistic Regression is : 98.84%\n",
            "Recall of Logistic Regression is : 99.14%\n",
            "F1 Score of Logistic Regression is : 98.99%\n",
            "Confusion matrix, without normalization\n"
          ]
        },
        {
          "data": {
            "image/png": "[encoded data removed]",
            "text/plain": [
              "<Figure size 432x288 with 2 Axes>"
            ]
          },
          "metadata": {
            "needs_background": "light"
          },
          "output_type": "display_data"
        }
      ],
      "source": [
        "# Calling all the classifier functions\n",
        "logistic_regression()"
      ]
    },
    {
      "cell_type": "code",
      "execution_count": null,
      "id": "5fdd2d31-4815-4178-b08b-d4e59fdf3bbd",
      "metadata": {
        "id": "5fdd2d31-4815-4178-b08b-d4e59fdf3bbd",
        "outputId": "5e4ab041-d65a-493b-ea21-846647f488d3"
      },
      "outputs": [
        {
          "name": "stdout",
          "output_type": "stream",
          "text": [
            "Accuracy of Decision Tree Classifier is : 99.69%\n",
            "Precision of Decision Tree Classifier is : 99.7%\n",
            "Recall of Decision Tree Classifier is : 99.65%\n",
            "F1 Score of Decision Tree Classifier is : 99.67%\n",
            "Confusion matrix, without normalization\n"
          ]
        },
        {
          "data": {
            "image/png": "[encoded data removed]",
            "text/plain": [
              "<Figure size 432x288 with 2 Axes>"
            ]
          },
          "metadata": {
            "needs_background": "light"
          },
          "output_type": "display_data"
        }
      ],
      "source": [
        "decision_tree_classifier()"
      ]
    },
    {
      "cell_type": "code",
      "execution_count": null,
      "id": "2a32cf88-3489-4f0b-82d5-c9892d5acabc",
      "metadata": {
        "id": "2a32cf88-3489-4f0b-82d5-c9892d5acabc",
        "outputId": "f1220b4f-4bc9-409a-9fe1-fb923fdbe378"
      },
      "outputs": [
        {
          "name": "stdout",
          "output_type": "stream",
          "text": [
            "Accuracy of Random Forest Classifier is : 99.25%\n",
            "Precision of Random Forest Classifier is : 98.94%\n",
            "Recall of Random Forest Classifier is : 99.51%\n",
            "F1 Score of Random Forest Classifier is : 99.22%\n",
            "Confusion matrix, without normalization\n"
          ]
        },
        {
          "data": {
            "image/png": "[encoded data removed]",
            "text/plain": [
              "<Figure size 432x288 with 2 Axes>"
            ]
          },
          "metadata": {
            "needs_background": "light"
          },
          "output_type": "display_data"
        }
      ],
      "source": [
        "random_forest_classifier()"
      ]
    },
    {
      "cell_type": "code",
      "execution_count": null,
      "id": "c3632c01-82c7-496c-8cca-b9b726486ea4",
      "metadata": {
        "id": "c3632c01-82c7-496c-8cca-b9b726486ea4",
        "outputId": "bf7b1a4b-065b-48fc-d1c8-ce84b2f829af"
      },
      "outputs": [
        {
          "name": "stdout",
          "output_type": "stream",
          "text": [
            "Accuracy of Naive Bayes Classifier is : 95.58%\n",
            "Precision of Naive Bayes Classifier is : 94.11%\n",
            "Recall of Naive Bayes Classifier is : 96.84%\n",
            "F1 Score of Naive Bayes Classifier is : 95.45%\n",
            "Confusion matrix, without normalization\n"
          ]
        },
        {
          "data": {
            "image/png": "[encoded data removed]",
            "text/plain": [
              "<Figure size 432x288 with 2 Axes>"
            ]
          },
          "metadata": {
            "needs_background": "light"
          },
          "output_type": "display_data"
        }
      ],
      "source": [
        "naive_bayes_classifier()"
      ]
    },
    {
      "cell_type": "code",
      "execution_count": null,
      "id": "3a66409c-5f0d-4b64-b573-65f291f50c46",
      "metadata": {
        "id": "3a66409c-5f0d-4b64-b573-65f291f50c46",
        "outputId": "ff8b2961-ed16-4937-d667-c45d79a0adc5"
      },
      "outputs": [
        {
          "name": "stdout",
          "output_type": "stream",
          "text": [
            "Accuracy of SVM Classifier is : 99.62%\n",
            "Precision of SVM Classifier is : 99.56%\n",
            "Recall of SVM Classifier is : 99.65%\n",
            "F1 Score of SVM Classifier is : 99.61%\n",
            "Confusion matrix, without normalization\n"
          ]
        },
        {
          "data": {
            "image/png": "[encoded data removed]",
            "text/plain": [
              "<Figure size 432x288 with 2 Axes>"
            ]
          },
          "metadata": {
            "needs_background": "light"
          },
          "output_type": "display_data"
        }
      ],
      "source": [
        "svm_classifier()"
      ]
    },
    {
      "cell_type": "code",
      "execution_count": null,
      "id": "941a3009-4e58-4f9f-bb7d-cdb0904dae2f",
      "metadata": {
        "id": "941a3009-4e58-4f9f-bb7d-cdb0904dae2f"
      },
      "outputs": [],
      "source": [
        "knn_classifier()"
      ]
    },
    {
      "cell_type": "code",
      "execution_count": null,
      "id": "78eb55e3-1a66-4feb-8a41-b199e99f6e35",
      "metadata": {
        "id": "78eb55e3-1a66-4feb-8a41-b199e99f6e35"
      },
      "outputs": [],
      "source": [
        "ada_boost_classifier()"
      ]
    },
    {
      "cell_type": "code",
      "execution_count": null,
      "id": "e3e01daf-e8cc-43b5-9b12-684de140d26f",
      "metadata": {
        "id": "e3e01daf-e8cc-43b5-9b12-684de140d26f"
      },
      "outputs": [],
      "source": []
    }
  ],
  "metadata": {
    "kernelspec": {
      "display_name": "Python 3 (ipykernel)",
      "language": "python",
      "name": "python3"
    },
    "language_info": {
      "codemirror_mode": {
        "name": "ipython",
        "version": 3
      },
      "file_extension": ".py",
      "mimetype": "text/x-python",
      "name": "python",
      "nbconvert_exporter": "python",
      "pygments_lexer": "ipython3",
      "version": "3.9.7"
    },
    "colab": {
      "provenance": [],
      "include_colab_link": true
    }
  },
  "nbformat": 4,
  "nbformat_minor": 5
}