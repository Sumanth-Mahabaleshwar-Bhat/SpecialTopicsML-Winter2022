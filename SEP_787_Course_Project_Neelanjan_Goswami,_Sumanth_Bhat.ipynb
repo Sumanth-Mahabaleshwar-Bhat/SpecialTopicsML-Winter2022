{
  "nbformat": 4,
  "nbformat_minor": 0,
  "metadata": {
    "colab": {
      "provenance": [],
      "include_colab_link": true
    },
    "kernelspec": {
      "name": "python3",
      "display_name": "Python 3"
    },
    "language_info": {
      "name": "python"
    }
  },
  "cells": [
    {
      "cell_type": "markdown",
      "metadata": {
        "id": "view-in-github",
        "colab_type": "text"
      },
      "source": [
        "<a href=\"https://colab.research.google.com/github/Sumanth-Mahabaleshwar-Bhat/SpecialTopicsML-Winter2022/blob/main/SEP_787_Course_Project_Neelanjan_Goswami%2C_Sumanth_Bhat.ipynb\" target=\"_parent\"><img src=\"https://colab.research.google.com/assets/colab-badge.svg\" alt=\"Open In Colab\"/></a>"
      ]
    },
    {
      "cell_type": "markdown",
      "source": [
        "# SEP 787 Course Project Comparing Classifiers\n",
        "\n",
        "# Project Members:\n",
        "  *   Sumanth Mahabaleshwar Bhat\n",
        "  *   Neelanjan Goswami\n",
        "\n",
        "\n",
        "\n",
        "# Project Objective:\n",
        "To compare the results derived from the classifications and obtain the below results:\n",
        "  1.  Computational times for both training and testing\n",
        "  2.  Cross Validation for parameter selection\n",
        "  3.  Plot and compare ROC (Receiver Operating Characteristic) curves\n",
        "  4.  Confusion matrix of results from each classifier\n",
        "\n",
        "# Dataset:\n",
        "  *   URL: http://archive.ics.uci.edu/ml/datasets/HTRU2\n",
        "  *   HTRU2 is a data set which describes a sample of pulsar candidates collected during the High Time Resolution Universe Survey (South). Pulsars are a rare type of Neutron star that produce radio emission detectable here on Earth. They are of considerable scientific interest as probes of space-time, the inter-stellar medium, and states of matter. Each candidate is described by 8 continuous variables, and a single class variable. The first four are simple statistics obtained from the integrated pulse profile (folded profile). This is an array of continuous variables that describe a longitude-resolved version of the signal that has been averaged in both time and frequency. The remaining four variables are similarly obtained from the DM-SNR curve. These are summarised below:\n",
        "  1.  Mean of the integrated profile.\n",
        "  2.  Standard deviation of the integrated profile.\n",
        "  3.  Excess kurtosis of the integrated profile.\n",
        "  4.  Skewness of the integrated profile.\n",
        "  5.  Mean of the DM-SNR curve.\n",
        "  6.  Standard deviation of the DM-SNR curve.\n",
        "  7.  Excess kurtosis of the DM-SNR curve.\n",
        "  8.  Skewness of the DM-SNR curve.\n",
        "  9.  Class\n",
        "\n",
        "# Algorithms Used\n",
        "\n",
        "  1.   KNN\n",
        "  2.   Naive Bayes\n",
        "  3.   SVM\n",
        "  4.   Adaboost\n",
        "\n",
        "\n",
        "\n"
      ],
      "metadata": {
        "id": "YdE9Y8w9izZm"
      }
    },
    {
      "cell_type": "markdown",
      "source": [
        "# Loading the Libraries"
      ],
      "metadata": {
        "id": "iiaShq4TwQZv"
      }
    },
    {
      "cell_type": "code",
      "execution_count": null,
      "metadata": {
        "id": "Vg0cIn2ftweC"
      },
      "outputs": [],
      "source": [
        "# Importing essential libraries\n",
        "import pandas as pd\n",
        "import numpy as np\n",
        "import matplotlib.pyplot as plt\n",
        "\n",
        "# To ignore non-error warnings\n",
        "import warnings\n",
        "warnings.filterwarnings('ignore')\n",
        "\n",
        "# Loading K-Nearest Neighbors (KNN)\n",
        "from sklearn.neighbors import KNeighborsClassifier\n",
        "# Loading Naive Bayes\n",
        "from sklearn.naive_bayes import GaussianNB\n",
        "# Loading AdaBoost\n",
        "from sklearn.ensemble import AdaBoostClassifier\n",
        "# Loading Support Vector Machine (SVM)\n",
        "from sklearn.svm import SVC\n",
        "\n",
        "# For Metrics\n",
        "from sklearn import metrics\n",
        "from sklearn.metrics import roc_curve, auc\n",
        "from sklearn.impute import SimpleImputer\n",
        "import time\n",
        "\n",
        "# Test Train model selection & Cross validation score\n",
        "from sklearn.model_selection import train_test_split, cross_val_score\n",
        "# Precision_score, Recall_score, Confusion_matrix, Accuracy_score, F1_score\n",
        "from sklearn.metrics import precision_score, recall_score, confusion_matrix, accuracy_score, f1_score\n",
        "from sklearn.metrics import plot_confusion_matrix\n",
        "# Mean_absolute_error, Mean_squared_error\n",
        "from sklearn.metrics import mean_absolute_error, mean_squared_error"
      ]
    },
    {
      "cell_type": "code",
      "source": [
        "data = pd.read_csv('HTRU_2.csv')\n",
        "data.head()"
      ],
      "metadata": {
        "colab": {
          "base_uri": "https://localhost:8080/",
          "height": 285
        },
        "id": "EPz8DhQgOi_s",
        "outputId": "1127ae49-3250-4449-a3b8-89666a91272e"
      },
      "execution_count": null,
      "outputs": [
        {
          "output_type": "execute_result",
          "data": {
            "text/plain": [
              "   Mean of the integrated profile  \\\n",
              "0                      140.562500   \n",
              "1                      102.507812   \n",
              "2                      103.015625   \n",
              "3                      136.750000   \n",
              "4                       88.726562   \n",
              "\n",
              "   Standard deviation of the integrated profile  \\\n",
              "0                                     55.683782   \n",
              "1                                     58.882430   \n",
              "2                                     39.341649   \n",
              "3                                     57.178449   \n",
              "4                                     40.672225   \n",
              "\n",
              "   Excess kurtosis of the integrated profile  \\\n",
              "0                                  -0.234571   \n",
              "1                                   0.465318   \n",
              "2                                   0.323328   \n",
              "3                                  -0.068415   \n",
              "4                                   0.600866   \n",
              "\n",
              "   Skewness of the integrated profile  Mean of the DM-SNR curve  \\\n",
              "0                           -0.699648                  3.199833   \n",
              "1                           -0.515088                  1.677258   \n",
              "2                            1.051164                  3.121237   \n",
              "3                           -0.636238                  3.642977   \n",
              "4                            1.123492                  1.178930   \n",
              "\n",
              "   Standard deviation of the DM-SNR curve  \\\n",
              "0                               19.110426   \n",
              "1                               14.860146   \n",
              "2                               21.744669   \n",
              "3                               20.959280   \n",
              "4                               11.468720   \n",
              "\n",
              "   Excess kurtosis of the DM-SNR curve  Skewness of the DM-SNR curve  Class  \n",
              "0                             7.975532                     74.242225      0  \n",
              "1                            10.576487                    127.393580      0  \n",
              "2                             7.735822                     63.171909      0  \n",
              "3                             6.896499                     53.593661      0  \n",
              "4                            14.269573                    252.567306      0  "
            ],
            "text/html": [
              "\n",
              "  <div id=\"df-1fec71af-80e9-4e54-b20b-0268045ef8c8\">\n",
              "    <div class=\"colab-df-container\">\n",
              "      <div>\n",
              "<style scoped>\n",
              "    .dataframe tbody tr th:only-of-type {\n",
              "        vertical-align: middle;\n",
              "    }\n",
              "\n",
              "    .dataframe tbody tr th {\n",
              "        vertical-align: top;\n",
              "    }\n",
              "\n",
              "    .dataframe thead th {\n",
              "        text-align: right;\n",
              "    }\n",
              "</style>\n",
              "<table border=\"1\" class=\"dataframe\">\n",
              "  <thead>\n",
              "    <tr style=\"text-align: right;\">\n",
              "      <th></th>\n",
              "      <th>Mean of the integrated profile</th>\n",
              "      <th>Standard deviation of the integrated profile</th>\n",
              "      <th>Excess kurtosis of the integrated profile</th>\n",
              "      <th>Skewness of the integrated profile</th>\n",
              "      <th>Mean of the DM-SNR curve</th>\n",
              "      <th>Standard deviation of the DM-SNR curve</th>\n",
              "      <th>Excess kurtosis of the DM-SNR curve</th>\n",
              "      <th>Skewness of the DM-SNR curve</th>\n",
              "      <th>Class</th>\n",
              "    </tr>\n",
              "  </thead>\n",
              "  <tbody>\n",
              "    <tr>\n",
              "      <th>0</th>\n",
              "      <td>140.562500</td>\n",
              "      <td>55.683782</td>\n",
              "      <td>-0.234571</td>\n",
              "      <td>-0.699648</td>\n",
              "      <td>3.199833</td>\n",
              "      <td>19.110426</td>\n",
              "      <td>7.975532</td>\n",
              "      <td>74.242225</td>\n",
              "      <td>0</td>\n",
              "    </tr>\n",
              "    <tr>\n",
              "      <th>1</th>\n",
              "      <td>102.507812</td>\n",
              "      <td>58.882430</td>\n",
              "      <td>0.465318</td>\n",
              "      <td>-0.515088</td>\n",
              "      <td>1.677258</td>\n",
              "      <td>14.860146</td>\n",
              "      <td>10.576487</td>\n",
              "      <td>127.393580</td>\n",
              "      <td>0</td>\n",
              "    </tr>\n",
              "    <tr>\n",
              "      <th>2</th>\n",
              "      <td>103.015625</td>\n",
              "      <td>39.341649</td>\n",
              "      <td>0.323328</td>\n",
              "      <td>1.051164</td>\n",
              "      <td>3.121237</td>\n",
              "      <td>21.744669</td>\n",
              "      <td>7.735822</td>\n",
              "      <td>63.171909</td>\n",
              "      <td>0</td>\n",
              "    </tr>\n",
              "    <tr>\n",
              "      <th>3</th>\n",
              "      <td>136.750000</td>\n",
              "      <td>57.178449</td>\n",
              "      <td>-0.068415</td>\n",
              "      <td>-0.636238</td>\n",
              "      <td>3.642977</td>\n",
              "      <td>20.959280</td>\n",
              "      <td>6.896499</td>\n",
              "      <td>53.593661</td>\n",
              "      <td>0</td>\n",
              "    </tr>\n",
              "    <tr>\n",
              "      <th>4</th>\n",
              "      <td>88.726562</td>\n",
              "      <td>40.672225</td>\n",
              "      <td>0.600866</td>\n",
              "      <td>1.123492</td>\n",
              "      <td>1.178930</td>\n",
              "      <td>11.468720</td>\n",
              "      <td>14.269573</td>\n",
              "      <td>252.567306</td>\n",
              "      <td>0</td>\n",
              "    </tr>\n",
              "  </tbody>\n",
              "</table>\n",
              "</div>\n",
              "      <button class=\"colab-df-convert\" onclick=\"convertToInteractive('df-1fec71af-80e9-4e54-b20b-0268045ef8c8')\"\n",
              "              title=\"Convert this dataframe to an interactive table.\"\n",
              "              style=\"display:none;\">\n",
              "        \n",
              "  <svg xmlns=\"http://www.w3.org/2000/svg\" height=\"24px\"viewBox=\"0 0 24 24\"\n",
              "       width=\"24px\">\n",
              "    <path d=\"M0 0h24v24H0V0z\" fill=\"none\"/>\n",
              "    <path d=\"M18.56 5.44l.94 2.06.94-2.06 2.06-.94-2.06-.94-.94-2.06-.94 2.06-2.06.94zm-11 1L8.5 8.5l.94-2.06 2.06-.94-2.06-.94L8.5 2.5l-.94 2.06-2.06.94zm10 10l.94 2.06.94-2.06 2.06-.94-2.06-.94-.94-2.06-.94 2.06-2.06.94z\"/><path d=\"M17.41 7.96l-1.37-1.37c-.4-.4-.92-.59-1.43-.59-.52 0-1.04.2-1.43.59L10.3 9.45l-7.72 7.72c-.78.78-.78 2.05 0 2.83L4 21.41c.39.39.9.59 1.41.59.51 0 1.02-.2 1.41-.59l7.78-7.78 2.81-2.81c.8-.78.8-2.07 0-2.86zM5.41 20L4 18.59l7.72-7.72 1.47 1.35L5.41 20z\"/>\n",
              "  </svg>\n",
              "      </button>\n",
              "      \n",
              "  <style>\n",
              "    .colab-df-container {\n",
              "      display:flex;\n",
              "      flex-wrap:wrap;\n",
              "      gap: 12px;\n",
              "    }\n",
              "\n",
              "    .colab-df-convert {\n",
              "      background-color: #E8F0FE;\n",
              "      border: none;\n",
              "      border-radius: 50%;\n",
              "      cursor: pointer;\n",
              "      display: none;\n",
              "      fill: #1967D2;\n",
              "      height: 32px;\n",
              "      padding: 0 0 0 0;\n",
              "      width: 32px;\n",
              "    }\n",
              "\n",
              "    .colab-df-convert:hover {\n",
              "      background-color: #E2EBFA;\n",
              "      box-shadow: 0px 1px 2px rgba(60, 64, 67, 0.3), 0px 1px 3px 1px rgba(60, 64, 67, 0.15);\n",
              "      fill: #174EA6;\n",
              "    }\n",
              "\n",
              "    [theme=dark] .colab-df-convert {\n",
              "      background-color: #3B4455;\n",
              "      fill: #D2E3FC;\n",
              "    }\n",
              "\n",
              "    [theme=dark] .colab-df-convert:hover {\n",
              "      background-color: #434B5C;\n",
              "      box-shadow: 0px 1px 3px 1px rgba(0, 0, 0, 0.15);\n",
              "      filter: drop-shadow(0px 1px 2px rgba(0, 0, 0, 0.3));\n",
              "      fill: #FFFFFF;\n",
              "    }\n",
              "  </style>\n",
              "\n",
              "      <script>\n",
              "        const buttonEl =\n",
              "          document.querySelector('#df-1fec71af-80e9-4e54-b20b-0268045ef8c8 button.colab-df-convert');\n",
              "        buttonEl.style.display =\n",
              "          google.colab.kernel.accessAllowed ? 'block' : 'none';\n",
              "\n",
              "        async function convertToInteractive(key) {\n",
              "          const element = document.querySelector('#df-1fec71af-80e9-4e54-b20b-0268045ef8c8');\n",
              "          const dataTable =\n",
              "            await google.colab.kernel.invokeFunction('convertToInteractive',\n",
              "                                                     [key], {});\n",
              "          if (!dataTable) return;\n",
              "\n",
              "          const docLinkHtml = 'Like what you see? Visit the ' +\n",
              "            '<a target=\"_blank\" href=https://colab.research.google.com/notebooks/data_table.ipynb>data table notebook</a>'\n",
              "            + ' to learn more about interactive tables.';\n",
              "          element.innerHTML = '';\n",
              "          dataTable['output_type'] = 'display_data';\n",
              "          await google.colab.output.renderOutput(dataTable, element);\n",
              "          const docLink = document.createElement('div');\n",
              "          docLink.innerHTML = docLinkHtml;\n",
              "          element.appendChild(docLink);\n",
              "        }\n",
              "      </script>\n",
              "    </div>\n",
              "  </div>\n",
              "  "
            ]
          },
          "metadata": {},
          "execution_count": 2
        }
      ]
    },
    {
      "cell_type": "code",
      "source": [
        "# Shape of the dataset\n",
        "data.shape"
      ],
      "metadata": {
        "colab": {
          "base_uri": "https://localhost:8080/"
        },
        "id": "RgSs2wXgx4W8",
        "outputId": "d575053b-be9a-417b-c816-179743959fa8"
      },
      "execution_count": null,
      "outputs": [
        {
          "output_type": "execute_result",
          "data": {
            "text/plain": [
              "(17898, 9)"
            ]
          },
          "metadata": {},
          "execution_count": 3
        }
      ]
    },
    {
      "cell_type": "code",
      "source": [
        "# Finding the precence of Null values in the Dataset (Handling Null Values)\n",
        "data.isnull().sum().sort_values(ascending=False)"
      ],
      "metadata": {
        "colab": {
          "base_uri": "https://localhost:8080/"
        },
        "id": "iE_BsUzax8Ll",
        "outputId": "c96857e5-ab15-4e01-d13f-1c84af23cd72"
      },
      "execution_count": null,
      "outputs": [
        {
          "output_type": "execute_result",
          "data": {
            "text/plain": [
              "Mean of the integrated profile                  0\n",
              "Standard deviation of the integrated profile    0\n",
              "Excess kurtosis of the integrated profile       0\n",
              "Skewness of the integrated profile              0\n",
              "Mean of the DM-SNR curve                        0\n",
              "Standard deviation of the DM-SNR curve          0\n",
              "Excess kurtosis of the DM-SNR curve             0\n",
              "Skewness of the DM-SNR curve                    0\n",
              "Class                                           0\n",
              "dtype: int64"
            ]
          },
          "metadata": {},
          "execution_count": 4
        }
      ]
    },
    {
      "cell_type": "code",
      "source": [
        "# Finding the percentage of NaN values\n",
        "percent_missing = data.isnull().sum() * 100 / len(data)\n",
        "missing_value_df = pd.DataFrame({'Column_Name': data.columns,'% Missing': percent_missing})\n",
        "missing_value_df.sort_values(by='% Missing', ascending=False)"
      ],
      "metadata": {
        "colab": {
          "base_uri": "https://localhost:8080/",
          "height": 332
        },
        "id": "CFIowZ3gyC4M",
        "outputId": "baaf44b9-590c-4ed9-82af-8065831dce3e"
      },
      "execution_count": null,
      "outputs": [
        {
          "output_type": "execute_result",
          "data": {
            "text/plain": [
              "                                                                               Column_Name  \\\n",
              "Mean of the integrated profile                              Mean of the integrated profile   \n",
              "Standard deviation of the integrated profile  Standard deviation of the integrated profile   \n",
              "Excess kurtosis of the integrated profile        Excess kurtosis of the integrated profile   \n",
              "Skewness of the integrated profile                      Skewness of the integrated profile   \n",
              "Mean of the DM-SNR curve                                          Mean of the DM-SNR curve   \n",
              "Standard deviation of the DM-SNR curve              Standard deviation of the DM-SNR curve   \n",
              "Excess kurtosis of the DM-SNR curve                    Excess kurtosis of the DM-SNR curve   \n",
              "Skewness of the DM-SNR curve                                  Skewness of the DM-SNR curve   \n",
              "Class                                                                                Class   \n",
              "\n",
              "                                              % Missing  \n",
              "Mean of the integrated profile                      0.0  \n",
              "Standard deviation of the integrated profile        0.0  \n",
              "Excess kurtosis of the integrated profile           0.0  \n",
              "Skewness of the integrated profile                  0.0  \n",
              "Mean of the DM-SNR curve                            0.0  \n",
              "Standard deviation of the DM-SNR curve              0.0  \n",
              "Excess kurtosis of the DM-SNR curve                 0.0  \n",
              "Skewness of the DM-SNR curve                        0.0  \n",
              "Class                                               0.0  "
            ],
            "text/html": [
              "\n",
              "  <div id=\"df-a27f8411-b48f-4747-b0ce-72daf5a96313\">\n",
              "    <div class=\"colab-df-container\">\n",
              "      <div>\n",
              "<style scoped>\n",
              "    .dataframe tbody tr th:only-of-type {\n",
              "        vertical-align: middle;\n",
              "    }\n",
              "\n",
              "    .dataframe tbody tr th {\n",
              "        vertical-align: top;\n",
              "    }\n",
              "\n",
              "    .dataframe thead th {\n",
              "        text-align: right;\n",
              "    }\n",
              "</style>\n",
              "<table border=\"1\" class=\"dataframe\">\n",
              "  <thead>\n",
              "    <tr style=\"text-align: right;\">\n",
              "      <th></th>\n",
              "      <th>Column_Name</th>\n",
              "      <th>% Missing</th>\n",
              "    </tr>\n",
              "  </thead>\n",
              "  <tbody>\n",
              "    <tr>\n",
              "      <th>Mean of the integrated profile</th>\n",
              "      <td>Mean of the integrated profile</td>\n",
              "      <td>0.0</td>\n",
              "    </tr>\n",
              "    <tr>\n",
              "      <th>Standard deviation of the integrated profile</th>\n",
              "      <td>Standard deviation of the integrated profile</td>\n",
              "      <td>0.0</td>\n",
              "    </tr>\n",
              "    <tr>\n",
              "      <th>Excess kurtosis of the integrated profile</th>\n",
              "      <td>Excess kurtosis of the integrated profile</td>\n",
              "      <td>0.0</td>\n",
              "    </tr>\n",
              "    <tr>\n",
              "      <th>Skewness of the integrated profile</th>\n",
              "      <td>Skewness of the integrated profile</td>\n",
              "      <td>0.0</td>\n",
              "    </tr>\n",
              "    <tr>\n",
              "      <th>Mean of the DM-SNR curve</th>\n",
              "      <td>Mean of the DM-SNR curve</td>\n",
              "      <td>0.0</td>\n",
              "    </tr>\n",
              "    <tr>\n",
              "      <th>Standard deviation of the DM-SNR curve</th>\n",
              "      <td>Standard deviation of the DM-SNR curve</td>\n",
              "      <td>0.0</td>\n",
              "    </tr>\n",
              "    <tr>\n",
              "      <th>Excess kurtosis of the DM-SNR curve</th>\n",
              "      <td>Excess kurtosis of the DM-SNR curve</td>\n",
              "      <td>0.0</td>\n",
              "    </tr>\n",
              "    <tr>\n",
              "      <th>Skewness of the DM-SNR curve</th>\n",
              "      <td>Skewness of the DM-SNR curve</td>\n",
              "      <td>0.0</td>\n",
              "    </tr>\n",
              "    <tr>\n",
              "      <th>Class</th>\n",
              "      <td>Class</td>\n",
              "      <td>0.0</td>\n",
              "    </tr>\n",
              "  </tbody>\n",
              "</table>\n",
              "</div>\n",
              "      <button class=\"colab-df-convert\" onclick=\"convertToInteractive('df-a27f8411-b48f-4747-b0ce-72daf5a96313')\"\n",
              "              title=\"Convert this dataframe to an interactive table.\"\n",
              "              style=\"display:none;\">\n",
              "        \n",
              "  <svg xmlns=\"http://www.w3.org/2000/svg\" height=\"24px\"viewBox=\"0 0 24 24\"\n",
              "       width=\"24px\">\n",
              "    <path d=\"M0 0h24v24H0V0z\" fill=\"none\"/>\n",
              "    <path d=\"M18.56 5.44l.94 2.06.94-2.06 2.06-.94-2.06-.94-.94-2.06-.94 2.06-2.06.94zm-11 1L8.5 8.5l.94-2.06 2.06-.94-2.06-.94L8.5 2.5l-.94 2.06-2.06.94zm10 10l.94 2.06.94-2.06 2.06-.94-2.06-.94-.94-2.06-.94 2.06-2.06.94z\"/><path d=\"M17.41 7.96l-1.37-1.37c-.4-.4-.92-.59-1.43-.59-.52 0-1.04.2-1.43.59L10.3 9.45l-7.72 7.72c-.78.78-.78 2.05 0 2.83L4 21.41c.39.39.9.59 1.41.59.51 0 1.02-.2 1.41-.59l7.78-7.78 2.81-2.81c.8-.78.8-2.07 0-2.86zM5.41 20L4 18.59l7.72-7.72 1.47 1.35L5.41 20z\"/>\n",
              "  </svg>\n",
              "      </button>\n",
              "      \n",
              "  <style>\n",
              "    .colab-df-container {\n",
              "      display:flex;\n",
              "      flex-wrap:wrap;\n",
              "      gap: 12px;\n",
              "    }\n",
              "\n",
              "    .colab-df-convert {\n",
              "      background-color: #E8F0FE;\n",
              "      border: none;\n",
              "      border-radius: 50%;\n",
              "      cursor: pointer;\n",
              "      display: none;\n",
              "      fill: #1967D2;\n",
              "      height: 32px;\n",
              "      padding: 0 0 0 0;\n",
              "      width: 32px;\n",
              "    }\n",
              "\n",
              "    .colab-df-convert:hover {\n",
              "      background-color: #E2EBFA;\n",
              "      box-shadow: 0px 1px 2px rgba(60, 64, 67, 0.3), 0px 1px 3px 1px rgba(60, 64, 67, 0.15);\n",
              "      fill: #174EA6;\n",
              "    }\n",
              "\n",
              "    [theme=dark] .colab-df-convert {\n",
              "      background-color: #3B4455;\n",
              "      fill: #D2E3FC;\n",
              "    }\n",
              "\n",
              "    [theme=dark] .colab-df-convert:hover {\n",
              "      background-color: #434B5C;\n",
              "      box-shadow: 0px 1px 3px 1px rgba(0, 0, 0, 0.15);\n",
              "      filter: drop-shadow(0px 1px 2px rgba(0, 0, 0, 0.3));\n",
              "      fill: #FFFFFF;\n",
              "    }\n",
              "  </style>\n",
              "\n",
              "      <script>\n",
              "        const buttonEl =\n",
              "          document.querySelector('#df-a27f8411-b48f-4747-b0ce-72daf5a96313 button.colab-df-convert');\n",
              "        buttonEl.style.display =\n",
              "          google.colab.kernel.accessAllowed ? 'block' : 'none';\n",
              "\n",
              "        async function convertToInteractive(key) {\n",
              "          const element = document.querySelector('#df-a27f8411-b48f-4747-b0ce-72daf5a96313');\n",
              "          const dataTable =\n",
              "            await google.colab.kernel.invokeFunction('convertToInteractive',\n",
              "                                                     [key], {});\n",
              "          if (!dataTable) return;\n",
              "\n",
              "          const docLinkHtml = 'Like what you see? Visit the ' +\n",
              "            '<a target=\"_blank\" href=https://colab.research.google.com/notebooks/data_table.ipynb>data table notebook</a>'\n",
              "            + ' to learn more about interactive tables.';\n",
              "          element.innerHTML = '';\n",
              "          dataTable['output_type'] = 'display_data';\n",
              "          await google.colab.output.renderOutput(dataTable, element);\n",
              "          const docLink = document.createElement('div');\n",
              "          docLink.innerHTML = docLinkHtml;\n",
              "          element.appendChild(docLink);\n",
              "        }\n",
              "      </script>\n",
              "    </div>\n",
              "  </div>\n",
              "  "
            ]
          },
          "metadata": {},
          "execution_count": 5
        }
      ]
    },
    {
      "cell_type": "markdown",
      "source": [
        "# Defining Features and Target"
      ],
      "metadata": {
        "id": "ZkjceFxNyW5b"
      }
    },
    {
      "cell_type": "code",
      "source": [
        "features = data.drop(['Class'], axis=1)\n",
        "target = data['Class']\n",
        "\n",
        "print(\"\\nShape of the Features: \", features.shape)\n",
        "print(\"Columns in the Features: \", features.columns)\n",
        "\n",
        "print(\"\\nShape of the Target: \", target.shape)\n",
        "print(\"Type of the Target: \", type(target))"
      ],
      "metadata": {
        "colab": {
          "base_uri": "https://localhost:8080/"
        },
        "id": "S-GiBgKeyXwf",
        "outputId": "cddeff31-3b1a-4227-c14c-3fc90e7911d4"
      },
      "execution_count": null,
      "outputs": [
        {
          "output_type": "stream",
          "name": "stdout",
          "text": [
            "\n",
            "Shape of the Features:  (17898, 8)\n",
            "Columns in the Features:  Index(['Mean of the integrated profile',\n",
            "       'Standard deviation of the integrated profile',\n",
            "       'Excess kurtosis of the integrated profile',\n",
            "       'Skewness of the integrated profile', 'Mean of the DM-SNR curve',\n",
            "       'Standard deviation of the DM-SNR curve',\n",
            "       'Excess kurtosis of the DM-SNR curve', 'Skewness of the DM-SNR curve'],\n",
            "      dtype='object')\n",
            "\n",
            "Shape of the Target:  (17898,)\n",
            "Type of the Target:  <class 'pandas.core.series.Series'>\n"
          ]
        }
      ]
    },
    {
      "cell_type": "markdown",
      "source": [
        "# Defining and Splitting the data into Training & Testing Sets"
      ],
      "metadata": {
        "id": "DT9UdeufynQc"
      }
    },
    {
      "cell_type": "code",
      "source": [
        "X_train, X_test, y_train, y_test = train_test_split(features, target, test_size = 0.25, random_state = 1124)"
      ],
      "metadata": {
        "id": "sjT3-YDkymd4"
      },
      "execution_count": null,
      "outputs": []
    },
    {
      "cell_type": "code",
      "source": [
        "X_train.shape"
      ],
      "metadata": {
        "colab": {
          "base_uri": "https://localhost:8080/"
        },
        "id": "Me0MS3S_kcxY",
        "outputId": "2f3a11aa-81f7-4376-c95f-542f42134660"
      },
      "execution_count": null,
      "outputs": [
        {
          "output_type": "execute_result",
          "data": {
            "text/plain": [
              "(13423, 8)"
            ]
          },
          "metadata": {},
          "execution_count": 8
        }
      ]
    },
    {
      "cell_type": "code",
      "source": [
        "X_test.shape"
      ],
      "metadata": {
        "colab": {
          "base_uri": "https://localhost:8080/"
        },
        "id": "wtcxlGI-kgkL",
        "outputId": "ee803b4a-9a75-4d88-a7fd-e9fbac915756"
      },
      "execution_count": null,
      "outputs": [
        {
          "output_type": "execute_result",
          "data": {
            "text/plain": [
              "(4475, 8)"
            ]
          },
          "metadata": {},
          "execution_count": 9
        }
      ]
    },
    {
      "cell_type": "markdown",
      "source": [
        "# Classification with KNN Classifier"
      ],
      "metadata": {
        "id": "ESiQOGz7C7bn"
      }
    },
    {
      "cell_type": "code",
      "source": [
        "# Training a KNN classifier with 50 neighbors\n",
        "k_neighbors = 50\n",
        "\n",
        "# Model Fit\n",
        "start_time = time.time()\n",
        "KNN_model = KNeighborsClassifier(n_neighbors = k_neighbors).fit(X_train, y_train);\n",
        "elapsed_time = time.time() - start_time\n",
        "print(\"Training Time    : {:.2}\".format(elapsed_time))\n",
        "KNN_training_time = elapsed_time\n",
        "\n",
        "# Model Predict\n",
        "start_time = time.time()\n",
        "y_predicted = KNN_model.predict(X_test)\n",
        "elapsed_time = time.time() - start_time\n",
        "print(\"Testing Time  : {:.2}\".format(elapsed_time))\n",
        "KNN_testing_time = elapsed_time\n",
        "\n",
        "# Model Evaluation\n",
        "KNN_Accuracy         = accuracy_score(y_test, y_predicted)\n",
        "KNN_Recall           = recall_score(y_test, y_predicted, average = \"weighted\")\n",
        "KNN_Precision        = precision_score(y_test, y_predicted, average = \"weighted\")\n",
        "KNN_Score            = f1_score(y_test, y_predicted, average = 'micro')\n",
        "KNN_Confusion_Matrix = confusion_matrix(y_test, y_predicted)\n",
        "KNN_Cross_Val        = cross_val_score(KNeighborsClassifier(n_neighbors = k_neighbors), X_train, y_train, cv = 10)"
      ],
      "metadata": {
        "id": "5I0otlxgkYg2",
        "colab": {
          "base_uri": "https://localhost:8080/"
        },
        "outputId": "41d8beec-2d1a-42ca-ba9c-431b8fc0ff83"
      },
      "execution_count": null,
      "outputs": [
        {
          "output_type": "stream",
          "name": "stdout",
          "text": [
            "Training Time    : 0.033\n",
            "Testing Time  : 0.25\n"
          ]
        }
      ]
    },
    {
      "cell_type": "code",
      "source": [
        "print(\"True Negative    : \", KNN_Confusion_Matrix[0,0])\n",
        "print(\"False Negative   : \", KNN_Confusion_Matrix[1,0])\n",
        "print(\"True Positive    : \", KNN_Confusion_Matrix[1,1])\n",
        "print(\"False Positive   : \", KNN_Confusion_Matrix[0,1])\n",
        "\n",
        "print(\"\\nAccuracy         : \", KNN_Accuracy)\n",
        "print(\"Recall           : \", KNN_Recall)\n",
        "print(\"Precision        : \", KNN_Precision)\n",
        "print(\"F1 Score         : \", KNN_Score)\n",
        "\n",
        "print(\"\\nTest-set R-square value : {:.2f}\".format(KNN_model.score(X_test, y_test)))\n",
        "print(\"\\nCross Validation : \", KNN_Cross_Val)\n",
        "print(\"\\nConfusion Matrix : \")\n",
        "print(KNN_Confusion_Matrix)\n",
        "plot_confusion_matrix(KNN_model, X_test, y_test)"
      ],
      "metadata": {
        "colab": {
          "base_uri": "https://localhost:8080/",
          "height": 612
        },
        "id": "59KT7BSZ6GOO",
        "outputId": "efcde08b-a3f7-4a0d-f344-9b64a072049e"
      },
      "execution_count": null,
      "outputs": [
        {
          "output_type": "stream",
          "name": "stdout",
          "text": [
            "True Negative    :  4033\n",
            "False Negative   :  94\n",
            "True Positive    :  326\n",
            "False Positive   :  22\n",
            "\n",
            "Accuracy         :  0.9740782122905028\n",
            "Recall           :  0.9740782122905028\n",
            "Precision        :  0.9734275325175813\n",
            "F1 Score         :  0.9740782122905027\n",
            "\n",
            "Test-set R-square value : 0.97\n",
            "\n",
            "Cross Validation :  [0.96872673 0.97691735 0.97468354 0.9709389  0.97168405 0.97391952\n",
            " 0.98211624 0.96348733 0.96944858 0.96721311]\n",
            "\n",
            "Confusion Matrix : \n",
            "[[4033   22]\n",
            " [  94  326]]\n"
          ]
        },
        {
          "output_type": "execute_result",
          "data": {
            "text/plain": [
              "<sklearn.metrics._plot.confusion_matrix.ConfusionMatrixDisplay at 0x7fb4df7ce1d0>"
            ]
          },
          "metadata": {},
          "execution_count": 11
        },
        {
          "output_type": "display_data",
          "data": {
            "text/plain": [
              "<Figure size 432x288 with 2 Axes>"
            ],
            "image/png": "[encoded data removed]"
          },
          "metadata": {
            "needs_background": "light"
          }
        }
      ]
    },
    {
      "cell_type": "code",
      "source": [
        "print(\"\\n Plotting KNN ROC Curve:\")\n",
        "metrics.plot_roc_curve(KNN_model, X_test, y_test)\n",
        "plt.plot([0, 1], [0, 1], color='orange', linestyle='--')\n",
        "plt.xlabel('False Positive Rate')\n",
        "plt.ylabel('True Positive Rate')\n",
        "plt.show()"
      ],
      "metadata": {
        "colab": {
          "base_uri": "https://localhost:8080/",
          "height": 314
        },
        "id": "-u3GDSeJ6VVu",
        "outputId": "be376099-b1ae-421d-ca16-333e2d93ed4b"
      },
      "execution_count": null,
      "outputs": [
        {
          "output_type": "stream",
          "name": "stdout",
          "text": [
            "\n",
            " Plotting KNN ROC Curve:\n"
          ]
        },
        {
          "output_type": "display_data",
          "data": {
            "text/plain": [
              "<Figure size 432x288 with 1 Axes>"
            ],
            "image/png": "[encoded data removed]"
          },
          "metadata": {
            "needs_background": "light"
          }
        }
      ]
    },
    {
      "cell_type": "markdown",
      "source": [
        "# Classification with Naive Bayes Classifier"
      ],
      "metadata": {
        "id": "uDigqpHNMf9s"
      }
    },
    {
      "cell_type": "code",
      "source": [
        "# Model Fit\n",
        "start_time = time.time()\n",
        "Naive_Bayes_model = GaussianNB().fit(X_train, y_train)\n",
        "elapsed_time = time.time() - start_time\n",
        "print(\"Training Time: {:.2}\".format(elapsed_time))\n",
        "Naive_Bayes_training_time = elapsed_time\n",
        "\n",
        "# Model Predict\n",
        "start_time = time.time()\n",
        "y_predicted = Naive_Bayes_model.predict(X_test)\n",
        "elapsed_time = time.time() - start_time\n",
        "print(\"Testing Time: {:.2}\".format(elapsed_time))\n",
        "Naive_Bayes_testing_time = elapsed_time\n",
        "\n",
        "# Model Evaluation\n",
        "Naive_Bayes_Accuracy         = accuracy_score(y_test, y_predicted)\n",
        "Naive_Bayes_Recall           = recall_score(y_test, y_predicted, average = \"weighted\")\n",
        "Naive_Bayes_Precision        = precision_score(y_test, y_predicted, average = \"weighted\")\n",
        "Naive_Bayes_Score            = f1_score(y_test, y_predicted, average = 'micro')\n",
        "Naive_Bayes_Confusion_Matrix = confusion_matrix(y_test, y_predicted)\n",
        "Naive_Bayes_Cross_Val        = cross_val_score(GaussianNB(), X_train, y_train, cv = 10)"
      ],
      "metadata": {
        "colab": {
          "base_uri": "https://localhost:8080/"
        },
        "id": "RN3is1vHMfGB",
        "outputId": "f25e9c98-90bc-4ac8-a278-2c4b0c38faf7"
      },
      "execution_count": null,
      "outputs": [
        {
          "output_type": "stream",
          "name": "stdout",
          "text": [
            "Training Time: 0.0091\n",
            "Testing Time: 0.0067\n"
          ]
        }
      ]
    },
    {
      "cell_type": "code",
      "source": [
        "print(\"True Negative    : \", Naive_Bayes_Confusion_Matrix[0,0])\n",
        "print(\"False Negative   : \", Naive_Bayes_Confusion_Matrix[1,0])\n",
        "print(\"True Positive    : \", Naive_Bayes_Confusion_Matrix[1,1])\n",
        "print(\"False Positive   : \", Naive_Bayes_Confusion_Matrix[0,1])\n",
        "\n",
        "print(\"\\nAccuracy         : \", Naive_Bayes_Accuracy)\n",
        "print(\"Recall           : \", Naive_Bayes_Recall)\n",
        "print(\"Precision        : \", Naive_Bayes_Precision)\n",
        "print(\"F1 Score         : \", Naive_Bayes_Score)\n",
        "\n",
        "print(\"\\nTest-set R-square value : {:.2f}\".format(Naive_Bayes_model.score(X_test, y_test)))\n",
        "\n",
        "print(\"Cross Validation : \", Naive_Bayes_Cross_Val)\n",
        "\n",
        "print(\"\\nConfusion Matrix : \")\n",
        "print(Naive_Bayes_Confusion_Matrix)\n",
        "plot_confusion_matrix(Naive_Bayes_model, X_test, y_test)"
      ],
      "metadata": {
        "colab": {
          "base_uri": "https://localhost:8080/",
          "height": 591
        },
        "id": "JDo4e7VG7oUb",
        "outputId": "713a05a3-9d3c-4540-c98b-676ca874981b"
      },
      "execution_count": null,
      "outputs": [
        {
          "output_type": "stream",
          "name": "stdout",
          "text": [
            "True Negative    :  3887\n",
            "False Negative   :  66\n",
            "True Positive    :  354\n",
            "False Positive   :  168\n",
            "\n",
            "Accuracy         :  0.9477094972067039\n",
            "Recall           :  0.9477094972067039\n",
            "Precision        :  0.9546647096838049\n",
            "F1 Score         :  0.9477094972067039\n",
            "\n",
            "Test-set R-square value : 0.95\n",
            "Cross Validation :  [0.94936709 0.95160089 0.93968727 0.9485842  0.94113264 0.94560358\n",
            " 0.94634873 0.93368107 0.94411326 0.94411326]\n",
            "\n",
            "Confusion Matrix : \n",
            "[[3887  168]\n",
            " [  66  354]]\n"
          ]
        },
        {
          "output_type": "execute_result",
          "data": {
            "text/plain": [
              "<sklearn.metrics._plot.confusion_matrix.ConfusionMatrixDisplay at 0x7fb4df63c3d0>"
            ]
          },
          "metadata": {},
          "execution_count": 14
        },
        {
          "output_type": "display_data",
          "data": {
            "text/plain": [
              "<Figure size 432x288 with 2 Axes>"
            ],
            "image/png": "[encoded data removed]"
          },
          "metadata": {
            "needs_background": "light"
          }
        }
      ]
    },
    {
      "cell_type": "code",
      "source": [
        "print(\"\\n Plotting Naive Bayes ROC Curve:\")\n",
        "metrics.plot_roc_curve(Naive_Bayes_model, X_test, y_test)\n",
        "plt.plot([0, 1], [0, 1], color='orange', linestyle='--')\n",
        "plt.xlabel('False Positive Rate')\n",
        "plt.ylabel('True Positive Rate')\n",
        "plt.show()"
      ],
      "metadata": {
        "colab": {
          "base_uri": "https://localhost:8080/",
          "height": 314
        },
        "id": "HOlLBRrN8EL2",
        "outputId": "f8012a7e-8d36-4072-be52-29e2dcc1cbb9"
      },
      "execution_count": null,
      "outputs": [
        {
          "output_type": "stream",
          "name": "stdout",
          "text": [
            "\n",
            " Plotting Naive Bayes ROC Curve:\n"
          ]
        },
        {
          "output_type": "display_data",
          "data": {
            "text/plain": [
              "<Figure size 432x288 with 1 Axes>"
            ],
            "image/png": "[encoded data removed]"
          },
          "metadata": {
            "needs_background": "light"
          }
        }
      ]
    },
    {
      "cell_type": "markdown",
      "source": [
        "# Classification with SVM Classifier"
      ],
      "metadata": {
        "id": "SKH2LusFQKyZ"
      }
    },
    {
      "cell_type": "code",
      "source": [
        "#  Creating Model with configuration\n",
        "SVM_model = SVC(kernel='rbf')\n",
        "\n",
        "# Model Fit\n",
        "start_time = time.time()\n",
        "SVM_model.fit(X = X_train, y = y_train)\n",
        "elapsed_time = time.time() - start_time\n",
        "print(\"Training Time    : {:.2}\".format(elapsed_time))\n",
        "SVM_training_time = elapsed_time\n",
        "\n",
        "# Model Predict\n",
        "start_time = time.time()\n",
        "y_predicted = SVM_model.predict(X_test)\n",
        "elapsed_time = time.time() - start_time\n",
        "print(\"Testing Time  : {:.2}\".format(elapsed_time))\n",
        "SVM_testing_time = elapsed_time\n",
        "\n",
        "# Model Evaluation\n",
        "SVM_Accuracy         = accuracy_score(y_test, y_predicted)\n",
        "SVM_Recall           = recall_score(y_test, y_predicted, average = \"weighted\")\n",
        "SVM_Precision        = precision_score(y_test, y_predicted, average = \"weighted\")\n",
        "SVM_Score            = f1_score(y_test, y_predicted, average = 'micro')\n",
        "SVM_Confusion_Matrix = confusion_matrix(y_test, y_predicted)\n",
        "SVM_Cross_Val        = cross_val_score(SVC(kernel='rbf'), X_train, y_train, cv = 10)"
      ],
      "metadata": {
        "colab": {
          "base_uri": "https://localhost:8080/"
        },
        "id": "hu-kX3-hQE0L",
        "outputId": "faa074c6-2901-4f96-f6db-33a8ae31c43a"
      },
      "execution_count": null,
      "outputs": [
        {
          "output_type": "stream",
          "name": "stdout",
          "text": [
            "Training Time    : 2.1\n",
            "Testing Time  : 0.76\n"
          ]
        }
      ]
    },
    {
      "cell_type": "code",
      "source": [
        "print(\"True Negative    : \", SVM_Confusion_Matrix[0,0])\n",
        "print(\"False Negative   : \", SVM_Confusion_Matrix[1,0])\n",
        "print(\"True Positive    : \", SVM_Confusion_Matrix[1,1])\n",
        "print(\"False Positive   : \", SVM_Confusion_Matrix[0,1])\n",
        "\n",
        "print(\"\\nAccuracy         : \", SVM_Accuracy)\n",
        "print(\"Recall           : \", SVM_Recall)\n",
        "print(\"Precision        : \", SVM_Precision)\n",
        "print(\"F1 Score         : \", SVM_Score)\n",
        "\n",
        "print(\"\\nTest set R-square value : {:.2f}\".format(SVM_model.score(X_test, y_test)))\n",
        "\n",
        "print(\"Cross Validation : \", SVM_Cross_Val)\n",
        "\n",
        "print(\"\\nConfusion Matrix : \")\n",
        "print(SVM_Confusion_Matrix)\n",
        "plot_confusion_matrix(SVM_model, X_test, y_test)"
      ],
      "metadata": {
        "colab": {
          "base_uri": "https://localhost:8080/",
          "height": 593
        },
        "id": "6Ni7xqu28Rd9",
        "outputId": "2cbf7e26-62d3-4057-d4a7-351d0259dc2c"
      },
      "execution_count": null,
      "outputs": [
        {
          "output_type": "stream",
          "name": "stdout",
          "text": [
            "True Negative    :  4038\n",
            "False Negative   :  99\n",
            "True Positive    :  321\n",
            "False Positive   :  17\n",
            "\n",
            "Accuracy         :  0.9740782122905028\n",
            "Recall           :  0.9740782122905028\n",
            "Precision        :  0.9735950907621367\n",
            "F1 Score         :  0.9740782122905027\n",
            "\n",
            "Test set R-square value : 0.97\n",
            "Cross Validation :  [0.96351452 0.97766195 0.97393894 0.97019374 0.97391952 0.97615499\n",
            " 0.98137109 0.96497765 0.97019374 0.96944858]\n",
            "\n",
            "Confusion Matrix : \n",
            "[[4038   17]\n",
            " [  99  321]]\n"
          ]
        },
        {
          "output_type": "execute_result",
          "data": {
            "text/plain": [
              "<sklearn.metrics._plot.confusion_matrix.ConfusionMatrixDisplay at 0x7fb4df70ac90>"
            ]
          },
          "metadata": {},
          "execution_count": 17
        },
        {
          "output_type": "display_data",
          "data": {
            "text/plain": [
              "<Figure size 432x288 with 2 Axes>"
            ],
            "image/png": "[encoded data removed]"
          },
          "metadata": {
            "needs_background": "light"
          }
        }
      ]
    },
    {
      "cell_type": "code",
      "source": [
        "print(\"\\n SVM ROC Curve:\")\n",
        "metrics.plot_roc_curve(SVM_model, X_test, y_test)\n",
        "plt.plot([0, 1], [0, 1], color='orange', linestyle='--')\n",
        "plt.xlabel('False Positive Rate')\n",
        "plt.ylabel('True Positive Rate')\n",
        "plt.show()"
      ],
      "metadata": {
        "colab": {
          "base_uri": "https://localhost:8080/",
          "height": 314
        },
        "id": "CPQp6rIC8dJK",
        "outputId": "3f1ee5c0-1b08-47d2-a2a5-104b1ee540a6"
      },
      "execution_count": null,
      "outputs": [
        {
          "output_type": "stream",
          "name": "stdout",
          "text": [
            "\n",
            " SVM ROC Curve:\n"
          ]
        },
        {
          "output_type": "display_data",
          "data": {
            "text/plain": [
              "<Figure size 432x288 with 1 Axes>"
            ],
            "image/png": "[encoded data removed]"
          },
          "metadata": {
            "needs_background": "light"
          }
        }
      ]
    },
    {
      "cell_type": "markdown",
      "source": [
        "# Classification with Adaboost Classifier"
      ],
      "metadata": {
        "id": "wIS37aayRnQ3"
      }
    },
    {
      "cell_type": "code",
      "source": [
        "#  Creating a Model with configuration\n",
        "adaBoost_Model = AdaBoostClassifier(n_estimators = 100, random_state = 1124)\n",
        "\n",
        "# Model Fit\n",
        "start_time = time.time()\n",
        "adaBoost_Model.fit(X = X_train, y = y_train)\n",
        "elapsed_time = time.time() - start_time\n",
        "print(\"Training Time    : {:.2}\".format(elapsed_time))\n",
        "Adaboost_training_time = elapsed_time\n",
        "\n",
        "# Model Predict\n",
        "start_time = time.time()\n",
        "y_predicted = adaBoost_Model.predict(X_test)\n",
        "elapsed_time = time.time() - start_time\n",
        "print(\"Testing Time  : {:.2}\".format(elapsed_time))\n",
        "Adaboost_testing_time = elapsed_time\n",
        "\n",
        "# Model Evaluation\n",
        "Adaboost_Accuracy         = accuracy_score(y_test, y_predicted)\n",
        "Adaboost_Recall           = recall_score(y_test, y_predicted, average = \"weighted\")\n",
        "Adaboost_Precision        = precision_score(y_test, y_predicted, average = \"weighted\")\n",
        "Adaboost_Score            = f1_score(y_test, y_predicted, average = 'micro')\n",
        "Adaboost_Confusion_Matrix = confusion_matrix(y_test, y_predicted)\n",
        "Adaboost_Cross_Val        = cross_val_score(AdaBoostClassifier(n_estimators = 100, random_state = 42), X_train, y_train, cv = 10)"
      ],
      "metadata": {
        "colab": {
          "base_uri": "https://localhost:8080/"
        },
        "id": "p4zaq6HDQRJH",
        "outputId": "3934bf21-5b95-462b-8c9d-a95ba210974e"
      },
      "execution_count": null,
      "outputs": [
        {
          "output_type": "stream",
          "name": "stdout",
          "text": [
            "Training Time    : 3.4\n",
            "Testing Time  : 0.088\n"
          ]
        }
      ]
    },
    {
      "cell_type": "code",
      "source": [
        "print(\"True Negative    : \", Adaboost_Confusion_Matrix[0,0])\n",
        "print(\"False Negative   : \", Adaboost_Confusion_Matrix[1,0])\n",
        "print(\"True Positive    : \", Adaboost_Confusion_Matrix[1,1])\n",
        "print(\"False Positive   : \", Adaboost_Confusion_Matrix[0,1])\n",
        "\n",
        "print(\"\\nAccuracy         : \", Adaboost_Accuracy)\n",
        "print(\"Recall           : \", Adaboost_Recall)\n",
        "print(\"Precision        : \", Adaboost_Precision)\n",
        "print(\"F1 Score         : \", Adaboost_Score)\n",
        "\n",
        "print(\"\\nTest-set R-square value : {:.2f}\".format(adaBoost_Model.score(X_test, y_test)))\n",
        "\n",
        "print(\"Cross Validation : \", Adaboost_Cross_Val)\n",
        "\n",
        "print(\"\\nConfusion Matrix : \")\n",
        "print(Adaboost_Confusion_Matrix)\n",
        "plot_confusion_matrix(adaBoost_Model, X_test, y_test)"
      ],
      "metadata": {
        "colab": {
          "base_uri": "https://localhost:8080/",
          "height": 594
        },
        "id": "4HUOhT4g8rKo",
        "outputId": "cd87886e-9998-426e-ffcf-86a4316f4953"
      },
      "execution_count": null,
      "outputs": [
        {
          "output_type": "stream",
          "name": "stdout",
          "text": [
            "True Negative    :  4031\n",
            "False Negative   :  71\n",
            "True Positive    :  349\n",
            "False Positive   :  24\n",
            "\n",
            "Accuracy         :  0.9787709497206704\n",
            "Recall           :  0.9787709497206704\n",
            "Precision        :  0.9782769557364679\n",
            "F1 Score         :  0.9787709497206704\n",
            "\n",
            "Test-set R-square value : 0.98\n",
            "Cross Validation :  [0.97691735 0.98212956 0.97840655 0.97839046 0.97913562 0.98137109\n",
            " 0.98435171 0.97242921 0.97913562 0.97317437]\n",
            "\n",
            "Confusion Matrix : \n",
            "[[4031   24]\n",
            " [  71  349]]\n"
          ]
        },
        {
          "output_type": "execute_result",
          "data": {
            "text/plain": [
              "<sklearn.metrics._plot.confusion_matrix.ConfusionMatrixDisplay at 0x7fb4def43ad0>"
            ]
          },
          "metadata": {},
          "execution_count": 20
        },
        {
          "output_type": "display_data",
          "data": {
            "text/plain": [
              "<Figure size 432x288 with 2 Axes>"
            ],
            "image/png": "[encoded data removed]"
          },
          "metadata": {
            "needs_background": "light"
          }
        }
      ]
    },
    {
      "cell_type": "code",
      "source": [
        "print(\"\\n AdaBoost ROC Curve:\")\n",
        "metrics.plot_roc_curve(adaBoost_Model, X_test, y_test)\n",
        "plt.plot([0, 1], [0, 1], color='orange', linestyle='--')\n",
        "plt.xlabel('False Positive Rate')\n",
        "plt.ylabel('True Positive Rate')\n",
        "plt.show()"
      ],
      "metadata": {
        "colab": {
          "base_uri": "https://localhost:8080/",
          "height": 314
        },
        "id": "HeYXMV4281yt",
        "outputId": "9cd119a0-a189-4983-e7b6-757073317829"
      },
      "execution_count": null,
      "outputs": [
        {
          "output_type": "stream",
          "name": "stdout",
          "text": [
            "\n",
            " AdaBoost ROC Curve:\n"
          ]
        },
        {
          "output_type": "display_data",
          "data": {
            "text/plain": [
              "<Figure size 432x288 with 1 Axes>"
            ],
            "image/png": "[encoded data removed]"
          },
          "metadata": {
            "needs_background": "light"
          }
        }
      ]
    },
    {
      "cell_type": "markdown",
      "source": [
        "# Comparing the results of the above used Classifier Algorithms"
      ],
      "metadata": {
        "id": "tcotUAjVYbi2"
      }
    },
    {
      "cell_type": "markdown",
      "source": [
        "\n",
        "\n",
        "# Plotting graphs - Computational Times for both training and testing"
      ],
      "metadata": {
        "id": "YybnO3tjYieT"
      }
    },
    {
      "cell_type": "markdown",
      "source": [
        "# Comparing Training Time"
      ],
      "metadata": {
        "id": "q966bT0gY-zG"
      }
    },
    {
      "cell_type": "code",
      "source": [
        "algos = ['KNN', 'Naive Bayes','ADABoost','SVM']\n",
        "training_times = [KNN_training_time, Naive_Bayes_training_time, Adaboost_training_time, SVM_training_time]\n",
        "plt.plot(algos,training_times,'-o')\n",
        "plt.title('Training Time Comparison')\n",
        "plt.xlabel('Classification Algorithms')\n",
        "plt.ylabel('Training Time')\n",
        "plt.show()"
      ],
      "metadata": {
        "colab": {
          "base_uri": "https://localhost:8080/",
          "height": 295
        },
        "id": "1tdF8iPZZC3l",
        "outputId": "33ecc335-2323-4c5b-cd30-d96f4480703d"
      },
      "execution_count": null,
      "outputs": [
        {
          "output_type": "display_data",
          "data": {
            "text/plain": [
              "<Figure size 432x288 with 1 Axes>"
            ],
            "image/png": "[encoded data removed]"
          },
          "metadata": {
            "needs_background": "light"
          }
        }
      ]
    },
    {
      "cell_type": "markdown",
      "source": [
        "# Comparing Testing Time"
      ],
      "metadata": {
        "id": "hiXQRMflDLtt"
      }
    },
    {
      "cell_type": "code",
      "source": [
        "algos = ['KNN', 'Naive Bayes','ADABoost','SVM']\n",
        "testing_times = [KNN_testing_time, Naive_Bayes_testing_time, Adaboost_testing_time, SVM_testing_time]\n",
        "plt.plot(algos,testing_times,'-o')\n",
        "plt.title('Testing Time Comparison')\n",
        "plt.xlabel('Classification Algorithms')\n",
        "plt.ylabel('Testing Time')\n",
        "plt.show()"
      ],
      "metadata": {
        "colab": {
          "base_uri": "https://localhost:8080/",
          "height": 295
        },
        "id": "v1x9ztC5bv5a",
        "outputId": "a6cd2e1b-e655-4efc-9718-4239d517a19b"
      },
      "execution_count": null,
      "outputs": [
        {
          "output_type": "display_data",
          "data": {
            "text/plain": [
              "<Figure size 432x288 with 1 Axes>"
            ],
            "image/png": "[encoded data removed]"
          },
          "metadata": {
            "needs_background": "light"
          }
        }
      ]
    },
    {
      "cell_type": "markdown",
      "source": [
        "# Comparing Accuracy of all the models"
      ],
      "metadata": {
        "id": "7KVkulirDREn"
      }
    },
    {
      "cell_type": "code",
      "source": [
        "algos = ['KNN', 'Naive Bayes', 'ADABoost','SVM']\n",
        "Accuracy_values = [KNN_Accuracy, Naive_Bayes_Accuracy, Adaboost_Accuracy, SVM_Accuracy]\n",
        "plt.plot(algos,Accuracy_values,'-o')\n",
        "plt.title('Accuracy Comparison')\n",
        "plt.xlabel('Classification Algorithms')\n",
        "plt.ylabel('Accuracy')\n",
        "plt.show()"
      ],
      "metadata": {
        "colab": {
          "base_uri": "https://localhost:8080/",
          "height": 295
        },
        "id": "LiMq5-IkfG8j",
        "outputId": "52caa7ac-66b4-4575-de74-29162a7c6012"
      },
      "execution_count": null,
      "outputs": [
        {
          "output_type": "display_data",
          "data": {
            "text/plain": [
              "<Figure size 432x288 with 1 Axes>"
            ],
            "image/png": "[encoded data removed]"
          },
          "metadata": {
            "needs_background": "light"
          }
        }
      ]
    },
    {
      "cell_type": "markdown",
      "source": [
        "# Comparing Precision of all the models"
      ],
      "metadata": {
        "id": "W6A4y_t-DdnB"
      }
    },
    {
      "cell_type": "code",
      "source": [
        "algos = ['KNN', 'Naive Bayes', 'ADABoost','SVM']\n",
        "Precision_values = [KNN_Precision, Naive_Bayes_Precision, Adaboost_Precision, SVM_Precision]\n",
        "plt.plot(algos,Precision_values,'-o')\n",
        "plt.title('Precision Comparison')\n",
        "plt.xlabel('Classification Algorithms')\n",
        "plt.ylabel('Precision')\n",
        "plt.show()"
      ],
      "metadata": {
        "colab": {
          "base_uri": "https://localhost:8080/",
          "height": 295
        },
        "id": "8Vtrv58afdh4",
        "outputId": "df4aaa4e-179d-45aa-9405-d5bf48d80750"
      },
      "execution_count": null,
      "outputs": [
        {
          "output_type": "display_data",
          "data": {
            "text/plain": [
              "<Figure size 432x288 with 1 Axes>"
            ],
            "image/png": "[encoded data removed]"
          },
          "metadata": {
            "needs_background": "light"
          }
        }
      ]
    },
    {
      "cell_type": "markdown",
      "source": [
        "# Comparing Recall of the models"
      ],
      "metadata": {
        "id": "lOk-aWQYDlKd"
      }
    },
    {
      "cell_type": "code",
      "source": [
        "algos = ['KNN', 'Naive Bayes', 'ADABoost','SVM']\n",
        "Recall_values = [KNN_Recall, Naive_Bayes_Recall, Adaboost_Recall, SVM_Recall]\n",
        "plt.plot(algos,Recall_values,'-o')\n",
        "plt.title('Recall Comparison')\n",
        "plt.xlabel('Classification Algorithms')\n",
        "plt.ylabel('Recall')\n",
        "plt.show()"
      ],
      "metadata": {
        "colab": {
          "base_uri": "https://localhost:8080/",
          "height": 295
        },
        "id": "1AoGh6MVf2RH",
        "outputId": "fff4b7fa-5a28-4bf5-f154-e675766c30b1"
      },
      "execution_count": null,
      "outputs": [
        {
          "output_type": "display_data",
          "data": {
            "text/plain": [
              "<Figure size 432x288 with 1 Axes>"
            ],
            "image/png": "[encoded data removed]"
          },
          "metadata": {
            "needs_background": "light"
          }
        }
      ]
    },
    {
      "cell_type": "markdown",
      "source": [
        "# Comparing F1 Score of all the models"
      ],
      "metadata": {
        "id": "xE4NM0wVDrdR"
      }
    },
    {
      "cell_type": "code",
      "source": [
        "algos = ['KNN', 'Naive Bayes', 'ADABoost','SVM']\n",
        "F1_Score_values = [KNN_Score, Naive_Bayes_Score, Adaboost_Score, SVM_Score]\n",
        "plt.plot(algos,F1_Score_values,'-o')\n",
        "plt.title('F1 Score Comparison')\n",
        "plt.xlabel('Classification Algorithms')\n",
        "plt.ylabel('F1 Score')\n",
        "plt.show()"
      ],
      "metadata": {
        "colab": {
          "base_uri": "https://localhost:8080/",
          "height": 295
        },
        "id": "6rP01ZPIj82k",
        "outputId": "ab9aec6f-506c-41e1-f35e-2d0fb3842db7"
      },
      "execution_count": null,
      "outputs": [
        {
          "output_type": "display_data",
          "data": {
            "text/plain": [
              "<Figure size 432x288 with 1 Axes>"
            ],
            "image/png": "[encoded data removed]"
          },
          "metadata": {
            "needs_background": "light"
          }
        }
      ]
    },
    {
      "cell_type": "code",
      "source": [
        "algos = ['KNN', 'Naive Bayes', 'ADABoost','SVM']\n",
        "cross_val_avg = [(sum(KNN_Cross_Val)/len(KNN_Cross_Val))*100, (sum(Naive_Bayes_Cross_Val)/len(Naive_Bayes_Cross_Val))*100, (sum(Adaboost_Cross_Val)/len(Adaboost_Cross_Val))*100, (sum(SVM_Cross_Val)/len(SVM_Cross_Val))*100]\n",
        "plt.plot(algos,cross_val_avg,'-o')\n",
        "plt.title('Cross Validation Comparison')\n",
        "plt.xlabel('Classification Algorithms')\n",
        "plt.ylabel('Cross Validation (Average) in %')\n",
        "plt.show()"
      ],
      "metadata": {
        "colab": {
          "base_uri": "https://localhost:8080/",
          "height": 295
        },
        "id": "THFACtwGkRDB",
        "outputId": "b60ca783-5d1d-41b5-b091-612fea733d95"
      },
      "execution_count": null,
      "outputs": [
        {
          "output_type": "display_data",
          "data": {
            "text/plain": [
              "<Figure size 432x288 with 1 Axes>"
            ],
            "image/png": "[encoded data removed]"
          },
          "metadata": {
            "needs_background": "light"
          }
        }
      ]
    }
  ]
}