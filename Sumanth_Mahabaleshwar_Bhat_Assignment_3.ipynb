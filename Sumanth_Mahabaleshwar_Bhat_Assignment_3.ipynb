{
  "cells": [
    {
      "cell_type": "markdown",
      "metadata": {
        "id": "view-in-github",
        "colab_type": "text"
      },
      "source": [
        "<a href=\"https://colab.research.google.com/github/Sumanth-Mahabaleshwar-Bhat/SpecialTopicsML-Winter2022/blob/main/Sumanth_Mahabaleshwar_Bhat_Assignment_3.ipynb\" target=\"_parent\"><img src=\"https://colab.research.google.com/assets/colab-badge.svg\" alt=\"Open In Colab\"/></a>"
      ]
    },
    {
      "cell_type": "code",
      "execution_count": null,
      "id": "73950621-4129-4b9c-9d2a-1f1611d53416",
      "metadata": {
        "id": "73950621-4129-4b9c-9d2a-1f1611d53416"
      },
      "outputs": [],
      "source": [
        "import numpy as np\n",
        "import matplotlib.pyplot as plt\n",
        "import pandas as pd"
      ]
    },
    {
      "cell_type": "code",
      "execution_count": null,
      "id": "2381ceb7-9f41-43b4-997a-2c0524e9de27",
      "metadata": {
        "id": "2381ceb7-9f41-43b4-997a-2c0524e9de27"
      },
      "outputs": [],
      "source": [
        "# Loading of Wisconsin breast cancer dataset\n",
        "from sklearn.datasets import load_breast_cancer\n",
        "cancer = load_breast_cancer()\n",
        "#print(cancer.DESCR)\n",
        "X, t = load_breast_cancer(return_X_y=True)"
      ]
    },
    {
      "cell_type": "code",
      "execution_count": null,
      "id": "5c6aa1d5-95d8-4f9b-a26e-16e7796acbbc",
      "metadata": {
        "id": "5c6aa1d5-95d8-4f9b-a26e-16e7796acbbc"
      },
      "outputs": [],
      "source": [
        "from sklearn.model_selection import train_test_split\n",
        "X_train, X_test, t_train, t_test = train_test_split(X, t, test_size = 1/4, random_state = 65)"
      ]
    },
    {
      "cell_type": "code",
      "execution_count": null,
      "id": "4032a16d-4e8e-411a-a72c-9d866997536b",
      "metadata": {
        "id": "4032a16d-4e8e-411a-a72c-9d866997536b"
      },
      "outputs": [],
      "source": [
        "# Implementation of Standardizing the features\n",
        "from sklearn.preprocessing import StandardScaler\n",
        "sc = StandardScaler()\n",
        "X_train = sc.fit_transform(X_train)\n",
        "X_test = sc.transform(X_test)"
      ]
    },
    {
      "cell_type": "code",
      "execution_count": null,
      "id": "90138d29-75cf-44b5-b0b1-9d3fd6f06364",
      "metadata": {
        "id": "90138d29-75cf-44b5-b0b1-9d3fd6f06364"
      },
      "outputs": [],
      "source": [
        "#separate training data for different classes\n",
        "#class 0\n",
        "i0 = np.asarray(np.nonzero(t_train==0)) #indexes where class is 0\n",
        "#print(i0)\n",
        "[m,n] = i0.shape\n",
        "X_train_0 = np.zeros((n,30))\n",
        "t_train_0 = np.zeros(n)\n",
        "#print(t_train_0)\n",
        "for i in range(n):\n",
        "    X_train_0[i,:] = X_train[i0[0,i],:]\n",
        "#print(X_train_0)\n",
        "\n",
        "#class 1\n",
        "i1 = np.asarray(np.nonzero(t_train==1)) #indexes where class is 0\n",
        "#print(i1)\n",
        "[m,n1] = i1.shape\n",
        "#print(n)\n",
        "X_train_1 = np.zeros((n1,30))\n",
        "t_train_1 = np.ones(n1)\n",
        "#print(t_train_1)\n",
        "for i in range(n1):\n",
        "    X_train_1[i,:] = X_train[i1[0,i],:]\n",
        "#print(X_train_1)"
      ]
    },
    {
      "cell_type": "code",
      "execution_count": null,
      "id": "a40dc110-77f7-4eb8-be8c-f0fc92c1ea9a",
      "metadata": {
        "id": "a40dc110-77f7-4eb8-be8c-f0fc92c1ea9a"
      },
      "outputs": [],
      "source": [
        "#separate test data for different classes\n",
        "#class 0\n",
        "i0 = np.asarray(np.nonzero(t_test==0)) #indexes where class is 0\n",
        "#print(i0)\n",
        "[mm,nn] = i0.shape\n",
        "X_test_0 = np.zeros((nn,30))\n",
        "t_test_0 = np.zeros(nn)\n",
        "#print(t_test_0)\n",
        "for i in range(nn):\n",
        "    X_test_0[i,:] = X_test[i0[0,i],:]\n",
        "#print(X_test_0)\n",
        "\n",
        "#class 1\n",
        "i1 = np.asarray(np.nonzero(t_test==1)) #indexes where class is 0\n",
        "#print(i1)\n",
        "[mm,nn1] = i1.shape\n",
        "#print(nn1)\n",
        "X_test_1 = np.zeros((nn1,30))\n",
        "t_test_1 = np.ones(nn1)\n",
        "#print(t_test_1)\n",
        "for i in range(nn1):\n",
        "    X_test_1[i,:] = X_test[i1[0,i],:]\n",
        "#print(X_test_1)"
      ]
    },
    {
      "cell_type": "code",
      "execution_count": null,
      "id": "d1075412-2cce-4d08-92c3-5acc124ad809",
      "metadata": {
        "id": "d1075412-2cce-4d08-92c3-5acc124ad809",
        "outputId": "1c86e54a-38b6-493c-d0fe-315aef55ffa8"
      },
      "outputs": [
        {
          "name": "stdout",
          "output_type": "stream",
          "text": [
            "(426, 30)\n",
            "(426,)\n"
          ]
        }
      ],
      "source": [
        "N=n+n1\n",
        "X_train_2class = np.zeros((N,30))\n",
        "t_train_2class = np.zeros(N)\n",
        "X_train_2class = np.concatenate((X_train_0,X_train_1), axis=0)\n",
        "t_train_2class = np.concatenate((t_train_0,t_train_1), axis=0)\n",
        "print(X_train_2class.shape)\n",
        "print(t_train_2class.shape)"
      ]
    },
    {
      "cell_type": "code",
      "execution_count": null,
      "id": "ff40e812-7bd3-453f-a83c-957f3f7758a0",
      "metadata": {
        "id": "ff40e812-7bd3-453f-a83c-957f3f7758a0",
        "outputId": "7795c316-ad22-4e3b-8304-f345db11df72"
      },
      "outputs": [
        {
          "name": "stdout",
          "output_type": "stream",
          "text": [
            "(143, 30)\n",
            "(143,)\n"
          ]
        }
      ],
      "source": [
        "# test set: select only classes 1 and 2; change 2 to 1, 1 to 0\n",
        "M=nn+nn1\n",
        "X_valid_2class = np.zeros((M,30))\n",
        "t_valid_2class = np.zeros(M)\n",
        "X_valid_2class = np.concatenate((X_test_0,X_test_1), axis=0)\n",
        "t_valid_2class = np.concatenate((t_test_0,t_test_1), axis=0)\n",
        "print(X_valid_2class.shape)\n",
        "print(t_valid_2class.shape)"
      ]
    },
    {
      "cell_type": "code",
      "execution_count": null,
      "id": "a684204d-3dec-465b-be47-d455c7be3aab",
      "metadata": {
        "id": "a684204d-3dec-465b-be47-d455c7be3aab",
        "outputId": "7efa03e9-04da-46db-cdd7-7ebb854f8a72"
      },
      "outputs": [
        {
          "name": "stdout",
          "output_type": "stream",
          "text": [
            "Vector Parameters :  [ -8.3809559  -12.49723689  -6.94063418  -8.3741053   -4.19599451\n",
            "  -4.77840733 -15.71573887 -11.01825215  -5.12208855   1.92568739\n",
            "  -9.47949465   5.23786594  -5.85724899  -4.97243309  -2.21853654\n",
            "   2.58766813   2.33330882   4.66619231   5.27884032   8.57194786\n",
            "   2.31515068  -2.64245045   4.19624586   3.72456377  -3.7989735\n",
            "   1.55869951  -3.00141554   1.70219699  -6.73983266   3.38660982]\n"
          ]
        }
      ],
      "source": [
        "#training with gradient descent\n",
        "#new_col=np.ones(N)\n",
        "#X1_train_2class = np.insert(X_train_2class, 0, new_col, axis = 1) #added the dummy column\n",
        "X1_train_2class = X_train_2class\n",
        "X1_valid_2class = X_valid_2class\n",
        "#new_col=np.ones(M)\n",
        "#X1_valid_2class = np.insert(X_valid_2class, 0, new_col, axis = 1) #added the dummy column\n",
        "w = np.arange(30)\n",
        "gr = np.zeros(30)\n",
        "z = np.zeros(N)\n",
        "z_v = np.zeros(N)\n",
        "y = np.zeros(N)\n",
        "IT = 8000 # number of iterations of GD\n",
        "cost = np.zeros(IT)\n",
        "cost_valid = np.zeros(IT)\n",
        "alpha = 0.1 # learning rate\n",
        "for n in range(IT):\n",
        "    #compute gradient\n",
        "    z = np.dot(X1_train_2class,w)\n",
        "    z_v = np.dot(X1_valid_2class,w)\n",
        "    y  = 1/(1 + np.exp(-z))\n",
        "    diff = y -  t_train_2class\n",
        "    gr = np.dot(X1_train_2class.T,diff)/N # gradient\n",
        "    # update w\n",
        "    w = w - alpha * gr\n",
        "    # compute the current cost on the training set\n",
        "    for i in range(N):\n",
        "        cost[n] += t_train_2class[i] * np.logaddexp(0,-z[i]) + (1-t_train_2class[i]) * np.logaddexp(0,z[i])\n",
        "    cost[n] /= N\n",
        "    # compute the current cost on the validation set\n",
        "    for i in range(M):\n",
        "        cost_valid[n] += t_valid_2class[i] * np.logaddexp(0,-z_v[i]) + (1-t_valid_2class[i]) * np.logaddexp(0,z_v[i])\n",
        "    cost_valid[n] /= M\n",
        "print(\"Vector Parameters : \",w)"
      ]
    },
    {
      "cell_type": "code",
      "execution_count": null,
      "id": "ea9c0c89-8884-4b08-aee2-430c51042d91",
      "metadata": {
        "id": "ea9c0c89-8884-4b08-aee2-430c51042d91",
        "outputId": "ca045ed1-5941-49c6-d123-24d6adde4dc3"
      },
      "outputs": [
        {
          "data": {
            "text/plain": [
              "Text(0.5, 0, 'iteration number')"
            ]
          },
          "execution_count": 142,
          "metadata": {},
          "output_type": "execute_result"
        },
        {
          "data": {
            "image/png": "[encoded data removed]",
            "text/plain": [
              "<Figure size 432x288 with 1 Axes>"
            ]
          },
          "metadata": {
            "needs_background": "light"
          },
          "output_type": "display_data"
        }
      ],
      "source": [
        "#plotting the learning curves\n",
        "init = 600\n",
        "lin = np.linspace(init+1,IT,IT-init)\n",
        "plt.scatter(lin, cost[init:], color = 'blue', label='training err')\n",
        "plt.scatter(lin, cost_valid[init:], color = 'm', label='validation err')\n",
        "plt.title('Cost function')\n",
        "plt.legend()\n",
        "plt.ylabel('cost')\n",
        "plt.xlabel('iteration number')"
      ]
    },
    {
      "cell_type": "code",
      "execution_count": null,
      "id": "6426f80b-81ed-48f7-badf-d67ec0c873ef",
      "metadata": {
        "id": "6426f80b-81ed-48f7-badf-d67ec0c873ef",
        "outputId": "6cc2d346-a7d0-4830-deb0-73d07f3d4f76"
      },
      "outputs": [
        {
          "name": "stdout",
          "output_type": "stream",
          "text": [
            "F1 Score :  0.5663926896327786\n",
            "Misclassification error :  0.43360731036722144\n"
          ]
        },
        {
          "data": {
            "image/png": "[encoded data removed]",
            "text/plain": [
              "<Figure size 432x288 with 1 Axes>"
            ]
          },
          "metadata": {
            "needs_background": "light"
          },
          "output_type": "display_data"
        }
      ],
      "source": [
        "z = np.matmul(X_test,w.T)\n",
        "c = np.ones(z.shape[0])\n",
        "z1 = np.sort(z)\n",
        "precision=[]\n",
        "recall=[]\n",
        "sensitivity=[]\n",
        "specificty=[]\n",
        "tpr=[]\n",
        "fpr=[]\n",
        "f1_score = 0\n",
        "for j in range(z1.shape[0]):\n",
        "    for i in range(z1.shape[0]):\n",
        "        if z1[i]<=(z1[j]/10):\n",
        "            c[i]=0\n",
        "    tp=fp=fn=tn=0\n",
        "    for k in range(c.shape[0]):\n",
        "        if(c[k]==t_test[k]):\n",
        "            if(c[k]==0):\n",
        "                tn+=1\n",
        "            else:\n",
        "                tp+=1\n",
        "        else:\n",
        "            if(c[k]==0 and t_test[k]==1):\n",
        "                fn+=1\n",
        "            elif(c[k]==1 and t_test[k]==0):\n",
        "                fp+=1\n",
        "    precision.append((tp/(tp + fp)))\n",
        "    recall.append((tp/(tp + fn)))\n",
        "    sensitivity.append((tp/(tp + fn)))\n",
        "    specificty.append((tn/(tn + fp)))\n",
        "    tpr.append((tp/(tp + fn)))\n",
        "    fpr.append((fp/(fp + tn)))\n",
        "plt.plot(fpr,tpr)\n",
        "plt.xlabel('False Positive Rate')\n",
        "plt.ylabel('True Positive Rate')\n",
        "plt.title('ROC Curve')\n",
        "precision = np.average(precision)\n",
        "recall = np.average(recall)\n",
        "f1_score = 2*((precision*recall)/(precision + recall))\n",
        "print(\"F1 Score : \", f1_score)\n",
        "print(\"Misclassification error : \", 1-f1_score)"
      ]
    },
    {
      "cell_type": "code",
      "execution_count": null,
      "id": "02e80c27-909a-4cd1-a1bb-2998b2238327",
      "metadata": {
        "id": "02e80c27-909a-4cd1-a1bb-2998b2238327",
        "outputId": "20889670-22d1-46c8-9675-0d5496d26511"
      },
      "outputs": [
        {
          "data": {
            "image/png": "[encoded data removed]",
            "text/plain": [
              "<Figure size 432x288 with 1 Axes>"
            ]
          },
          "metadata": {
            "needs_background": "light"
          },
          "output_type": "display_data"
        },
        {
          "name": "stdout",
          "output_type": "stream",
          "text": [
            "F1 Score :  0.9550314465408805\n",
            "Misclassified errors :  0.007042253521125938\n"
          ]
        }
      ],
      "source": [
        "# Implementation of Logistic Regression using sklearn\n",
        "from sklearn.linear_model import LogisticRegression\n",
        "from sklearn import metrics\n",
        "from sklearn.metrics import roc_auc_score\n",
        "from sklearn.model_selection import train_test_split\n",
        "from sklearn.metrics import f1_score\n",
        "X_train,X_test,y_train,y_test=train_test_split(X,t,test_size=0.25,random_state=0)\n",
        "from sklearn.preprocessing import StandardScaler\n",
        "sc = StandardScaler()\n",
        "X_train = sc.fit_transform(X_train)\n",
        "X_test = sc.transform(X_test)\n",
        "# instantiate the model (using the default parameters)\n",
        "logreg = LogisticRegression()\n",
        "# fit the model with data\n",
        "logreg.fit(X_train,y_train)\n",
        "y_pred_logreg=logreg.predict(X_test)\n",
        "y_pred_proba = logreg.predict_proba(X_test)[::,1]\n",
        "fpr, tpr, _ = metrics.roc_curve(y_test,  y_pred_proba)\n",
        "auc = metrics.roc_auc_score(y_test, y_pred_proba)\n",
        "plt.plot(fpr,tpr,label=\"data 1, auc=\"+str(auc))\n",
        "plt.xlabel('False Positive Rate')\n",
        "plt.ylabel('True Positive Rate')\n",
        "plt.title('ROC Curve')\n",
        "plt.legend(loc=4)\n",
        "plt.show()\n",
        "precision=[]\n",
        "recall=[]\n",
        "sensitivity=[]\n",
        "specificty=[]\n",
        "print(\"F1 Score : \", f1_score(y_test, y_pred, average='macro'))\n",
        "misclassified_errors_logreg = 0\n",
        "for i in range(len(y_pred_logreg)):\n",
        "    if y_pred_logreg[i]!= y_test[i]:\n",
        "        misclassified_errors_logreg = (misclassified_errors_logreg + 1)/len(y_pred_logreg)\n",
        "print(\"Misclassified errors : \", misclassified_errors_logreg)"
      ]
    },
    {
      "cell_type": "code",
      "execution_count": null,
      "id": "cf8d1730-1f03-47d4-b8fb-fd30dbec91d4",
      "metadata": {
        "id": "cf8d1730-1f03-47d4-b8fb-fd30dbec91d4"
      },
      "outputs": [],
      "source": [
        "# Implementation of KNN Classifier using sklearn\n",
        "from sklearn.neighbors import KNeighborsClassifier\n",
        "from sklearn.model_selection import cross_val_score\n",
        "from sklearn.metrics import f1_score\n",
        "X_train,X_test,y_train,y_test=train_test_split(X,t,test_size=0.25,random_state=0)\n",
        "neighbors = []\n",
        "cv_scores = []\n",
        "err_scores = []\n",
        "# perform 5 fold cross validation\n",
        "for k in range(1, 10, 2):\n",
        "    neighbors.append(k)\n",
        "    knn = KNeighborsClassifier(n_neighbors = k)\n",
        "    knn.fit(X_train, y_train)\n",
        "    y_pred_knn = knn.predict(X_test)\n",
        "    scores = cross_val_score(\n",
        "        knn, X_train, y_train, cv = 5, scoring = 'accuracy')\n",
        "    cv_scores.append(scores.mean())\n",
        "    loss = abs(cross_val_score(knn, X_train, y_train, cv=5, scoring='neg_mean_squared_error'))\n",
        "    err_scores.append(loss.mean())"
      ]
    },
    {
      "cell_type": "code",
      "execution_count": null,
      "id": "456bff8a-649c-4978-94c7-e05c181ab045",
      "metadata": {
        "id": "456bff8a-649c-4978-94c7-e05c181ab045",
        "outputId": "8a595eac-7035-4aa6-ddfa-8079707bce2b"
      },
      "outputs": [
        {
          "name": "stdout",
          "output_type": "stream",
          "text": [
            "Cross validation error is \n",
            "[0.07991792065663475, 0.07283173734610124, 0.07291381668946648, 0.07053351573187415, 0.06582763337893296]\n",
            "The optimal number of neighbors is  9 \n"
          ]
        },
        {
          "data": {
            "image/png": "[encoded data removed]",
            "text/plain": [
              "<Figure size 720x432 with 1 Axes>"
            ]
          },
          "metadata": {
            "needs_background": "light"
          },
          "output_type": "display_data"
        },
        {
          "name": "stdout",
          "output_type": "stream",
          "text": [
            "F1 Score :  0.9546703296703296\n",
            "Misclassification Error :  0.007042253521125938\n"
          ]
        }
      ],
      "source": [
        "MSE = [1-x for x in cv_scores]\n",
        "print('Cross validation error is ')\n",
        "print(err_scores)\n",
        "# determining the best k\n",
        "optimal_k = neighbors[MSE.index(min(MSE))]\n",
        "print('The optimal number of neighbors is % d ' % optimal_k)\n",
        "\n",
        "# plot misclassification error versus k\n",
        "plt.figure(figsize = (10, 6))\n",
        "plt.plot(neighbors, MSE)\n",
        "plt.xlabel('Number of neighbors')\n",
        "plt.ylabel('Misclassification Error')\n",
        "plt.show()\n",
        "print(\"F1 Score : \", f1_score(y_test, y_pred_knn, average='macro'))\n",
        "misclassification_errors = 0\n",
        "for i in range(len(y_pred_knn)):\n",
        "    if y_pred_knn[i] != y_test[i]:\n",
        "        misclassification_errors = (misclassification_errors + 1)/len(y_pred_knn)\n",
        "print(\"Misclassification Error : \",misclassification_errors)"
      ]
    },
    {
      "cell_type": "code",
      "execution_count": null,
      "id": "203cffcf-b77f-485b-9dee-a55dcc0b65bf",
      "metadata": {
        "id": "203cffcf-b77f-485b-9dee-a55dcc0b65bf",
        "outputId": "e4c00ca7-a446-46a7-bbe2-d2b54c7ac683"
      },
      "outputs": [
        {
          "name": "stdout",
          "output_type": "stream",
          "text": [
            "Accuracy value :  [0.5314685314685315, 0.5314685314685315, 0.5314685314685315, 0.5454545454545454, 0.5524475524475524]\n",
            "Misclassification value :  [0.46853146853146854, 0.46853146853146854, 0.46853146853146854, 0.4545454545454546, 0.4475524475524476]\n"
          ]
        }
      ],
      "source": [
        "# Implementation of KNN Classifier\n",
        "X_train, X_valid, t_train, t_valid = train_test_split(X, t, test_size = 1/4, random_state = 2)\n",
        "from math import sqrt\n",
        "def Euclidean_distance(row1, row2):\n",
        "    distance = 0\n",
        "    for i in range(len(row1)-1):\n",
        "        distance += (row1[i] - row2[i])**2            #(x1-x2)**2+(y1-y2)**2\n",
        "    return sqrt(distance)\n",
        "\n",
        "def Get_Neighbors(train, test_row, num):\n",
        "    distance = list()\n",
        "    data = []\n",
        "    for i in train:\n",
        "        dist = Euclidean_distance(test_row, i)\n",
        "        distance.append(dist)\n",
        "        data.append(i)\n",
        "    distance = np.array(distance)\n",
        "    data = np.array(data)\n",
        "    #finding index of min distance\n",
        "    index_dist = distance.argsort()\n",
        "    data = data[index_dist]\n",
        "    neighbors = data[:num]\n",
        "    return neighbors\n",
        "\n",
        "def predict_classification(train, test_row, num):\n",
        "    Neighbors = Get_Neighbors(train, test_row, num)\n",
        "    Classes = []\n",
        "    for i in Neighbors:\n",
        "        Classes.append(i[-1])\n",
        "    prediction = max(Classes, key= Classes.count)\n",
        "    return prediction\n",
        "\n",
        "y_pred = np.zeros(len(X_valid))\n",
        "y_true = t_valid\n",
        "acc_val = []\n",
        "mis_val = []\n",
        "for k in range(1, 10, 2):\n",
        "    for i in range(len(X_valid)):\n",
        "        y_pred[i] = predict_classification(X_train, X_valid[i], k)\n",
        "        y_pred[i] = y_pred[i]*10\n",
        "        if y_pred[i] >= 0.7:\n",
        "            y_pred[i] = 1\n",
        "        else:\n",
        "            y_pred[i] = 0\n",
        "    n_correct = 0\n",
        "    for i in range(len(y_true)):\n",
        "        if y_true[i] == y_pred[i]:\n",
        "            n_correct += 1\n",
        "    acc = n_correct/len(y_true)\n",
        "    mis = 1 - acc\n",
        "    acc_val.append(acc)\n",
        "    mis_val.append(mis)\n",
        "print(\"Accuracy value : \", acc_val)\n",
        "print(\"Misclassification value : \", mis_val)"
      ]
    },
    {
      "cell_type": "code",
      "execution_count": null,
      "id": "b114a92a-8bd9-4f58-a888-0c0a0be99fde",
      "metadata": {
        "id": "b114a92a-8bd9-4f58-a888-0c0a0be99fde",
        "outputId": "8aee79f1-6a94-4375-840d-47792f39be2a"
      },
      "outputs": [
        {
          "data": {
            "image/png": "[encoded data removed]",
            "text/plain": [
              "<Figure size 720x432 with 1 Axes>"
            ]
          },
          "metadata": {
            "needs_background": "light"
          },
          "output_type": "display_data"
        },
        {
          "name": "stdout",
          "output_type": "stream",
          "text": [
            "F1 Score :  0.5478671020577413\n",
            "Misclassification Errors :  0.007042253521126761\n"
          ]
        }
      ],
      "source": [
        "plt.figure(figsize = (10, 6))\n",
        "plt.plot(neighbors, mis_val)\n",
        "plt.xlabel('Number of neighbors')\n",
        "plt.ylabel('Misclassification Error')\n",
        "plt.show()\n",
        "print(\"F1 Score : \", f1_score(t_valid, y_pred, average='macro'))\n",
        "misclassification_errors_knn = 0\n",
        "for i in range(len(y_pred)):\n",
        "    if y_pred[i]!= t_valid[i]:\n",
        "        misclassification_errors_knn = (misclassification_errors_knn + 1)/len(y_pred)\n",
        "print(\"Misclassification Errors : \", misclassification_errors_knn)"
      ]
    },
    {
      "cell_type": "code",
      "execution_count": null,
      "id": "cfb2d3dd-90ca-4552-b998-38a2f79c9f2c",
      "metadata": {
        "id": "cfb2d3dd-90ca-4552-b998-38a2f79c9f2c"
      },
      "outputs": [],
      "source": []
    }
  ],
  "metadata": {
    "kernelspec": {
      "display_name": "Python 3 (ipykernel)",
      "language": "python",
      "name": "python3"
    },
    "language_info": {
      "codemirror_mode": {
        "name": "ipython",
        "version": 3
      },
      "file_extension": ".py",
      "mimetype": "text/x-python",
      "name": "python",
      "nbconvert_exporter": "python",
      "pygments_lexer": "ipython3",
      "version": "3.9.7"
    },
    "colab": {
      "provenance": [],
      "include_colab_link": true
    }
  },
  "nbformat": 4,
  "nbformat_minor": 5
}